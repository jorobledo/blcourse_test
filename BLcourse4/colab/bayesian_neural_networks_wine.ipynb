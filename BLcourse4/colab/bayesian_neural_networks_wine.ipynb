{
  "cells": [
    {
      "cell_type": "markdown",
      "metadata": {
        "colab_type": "text",
        "id": "view-in-github"
      },
      "source": [
        "<a href=\"https://colab.research.google.com/github/jorobledo/blcourse_test/blob/main/BLcourse4/colab/bayesian_neural_networks_wine.ipynb\" target=\"_parent\"><img src=\"https://colab.research.google.com/assets/colab-badge.svg\" alt=\"Open In Colab\"/></a>"
      ]
    },
    {
      "cell_type": "code",
      "execution_count": null,
      "metadata": {
        "colab": {
          "base_uri": "https://localhost:8080/"
        },
        "id": "M4jHpLnT4ohB",
        "outputId": "5df14eba-77cf-4fdb-98cf-d7d4f9b8cfc2"
      },
      "outputs": [],
      "source": [
        "# Initialize Colab\n",
        "!git clone https://github.com/jorobledo/bayesian_learning_course.git\n",
        "%cd bayesian_learning_course/BLcourse2/colab/\n",
        "!pip install tensorflow==2.15\n",
        "!pip install tensorflow-probability==0.23.0"
      ]
    },
    {
      "cell_type": "markdown",
      "metadata": {
        "id": "bQufHvzxJZX1"
      },
      "source": [
        "# Probabilistic Bayesian Neural Networks\n",
        "\n",
        "**Author:** [Khalid Salama](https://www.linkedin.com/in/khalid-salama-24403144/)<br>\n",
        "**Date created:** 2021/01/15<br>\n",
        "**Last modified:** 2021/01/15<br>\n",
        "**Description:** Building probabilistic Bayesian neural network models with TensorFlow Probability."
      ]
    },
    {
      "cell_type": "markdown",
      "metadata": {
        "id": "d6RFQWP6JZX3"
      },
      "source": [
        "## Introduction\n",
        "\n",
        "Taking a probabilistic approach to deep learning allows to account for *uncertainty*,\n",
        "so that models can assign less levels of confidence to incorrect predictions.\n",
        "Sources of uncertainty can be found in the data, due to measurement error or\n",
        "noise in the labels, or the model, due to insufficient data availability for\n",
        "the model to learn effectively.\n",
        "\n",
        "\n",
        "This example demonstrates how to build basic probabilistic Bayesian neural networks\n",
        "to account for these two types of uncertainty.\n",
        "We use [TensorFlow Probability](https://www.tensorflow.org/probability) library,\n",
        "which is compatible with Keras API.\n",
        "\n",
        "This example requires TensorFlow 2.3 or higher.\n",
        "You can install Tensorflow Probability using the following command:\n",
        "\n",
        "```python\n",
        "pip install tensorflow-probability\n",
        "```"
      ]
    },
    {
      "cell_type": "markdown",
      "metadata": {
        "id": "7upK2dweJZX4"
      },
      "source": [
        "## The dataset\n",
        "\n",
        "We use the [Wine Quality](https://archive.ics.uci.edu/ml/datasets/wine+quality)\n",
        "dataset, which is available in the [TensorFlow Datasets](https://www.tensorflow.org/datasets/catalog/wine_quality).\n",
        "We use the red wine subset, which contains 4,898 examples.\n",
        "The dataset has 11numerical physicochemical features of the wine, and the task\n",
        "is to predict the wine quality, which is a score between 0 and 10.\n",
        "In this example, we treat this as a regression task.\n",
        "\n",
        "You can install TensorFlow Datasets using the following command:\n",
        "\n",
        "```python\n",
        "pip install tensorflow-datasets\n",
        "```"
      ]
    },
    {
      "cell_type": "markdown",
      "metadata": {
        "id": "Rg3x9SPVJZX4"
      },
      "source": [
        "## Setup"
      ]
    },
    {
      "cell_type": "code",
      "execution_count": 4,
      "metadata": {
        "id": "SZ8HIsVcJZX5",
        "tags": []
      },
      "outputs": [],
      "source": [
        "import numpy as np\n",
        "import tensorflow as tf\n",
        "from tensorflow import keras\n",
        "from tensorflow.keras import layers\n",
        "import tensorflow_datasets as tfds\n",
        "import tensorflow_probability as tfp"
      ]
    },
    {
      "cell_type": "markdown",
      "metadata": {
        "id": "r_fw7qGhJZX5"
      },
      "source": [
        "## Create training and evaluation datasets\n",
        "\n",
        "Here, we load the `wine_quality` dataset using `tfds.load()`, and we convert\n",
        "the target feature to float. Then, we shuffle the dataset and split it into\n",
        "training and test sets. We take the first `train_size` examples as the train\n",
        "split, and the rest as the test split."
      ]
    },
    {
      "cell_type": "code",
      "execution_count": 5,
      "metadata": {
        "id": "47HHMmwvJZX6",
        "tags": []
      },
      "outputs": [],
      "source": [
        "def get_train_and_test_splits(train_size, batch_size=1):\n",
        "    # We prefetch with a buffer the same size as the dataset because th dataset\n",
        "    # is very small and fits into memory.\n",
        "    dataset = (\n",
        "        tfds.load(name=\"wine_quality\", data_dir=\"../datasets/\", as_supervised=True, split=\"train\")\n",
        "        .map(lambda x, y: (x, tf.cast(y, tf.float32)))\n",
        "        .prefetch(buffer_size=dataset_size)\n",
        "        .cache()\n",
        "    )\n",
        "    # We shuffle with a buffer the same size as the dataset.\n",
        "    train_dataset = (\n",
        "        dataset.take(train_size).shuffle(buffer_size=train_size).batch(batch_size)\n",
        "    )\n",
        "    test_dataset = dataset.skip(train_size).batch(batch_size)\n",
        "\n",
        "    return train_dataset, test_dataset\n"
      ]
    },
    {
      "cell_type": "markdown",
      "metadata": {
        "id": "BnNWHEbCJZX6"
      },
      "source": [
        "## Compile, train, and evaluate the model"
      ]
    },
    {
      "cell_type": "code",
      "execution_count": 6,
      "metadata": {
        "id": "cz1h4N0jJZX6",
        "tags": []
      },
      "outputs": [],
      "source": [
        "hidden_units = [8, 8]\n",
        "learning_rate = 0.001\n",
        "\n",
        "\n",
        "def run_experiment(model, loss, train_dataset, test_dataset):\n",
        "\n",
        "    model.compile(\n",
        "        optimizer=keras.optimizers.RMSprop(learning_rate=learning_rate),\n",
        "        loss=loss,\n",
        "        metrics=[keras.metrics.RootMeanSquaredError()],\n",
        "    )\n",
        "\n",
        "    print(\"Start training the model...\")\n",
        "    model.fit(train_dataset, epochs=num_epochs, validation_data=test_dataset,verbose=0)\n",
        "    print(\"Model training finished.\")\n",
        "    _, rmse = model.evaluate(train_dataset, verbose=0)\n",
        "    print(f\"Train RMSE: {round(rmse, 3)}\")\n",
        "\n",
        "    print(\"Evaluating model performance...\")\n",
        "    _, rmse = model.evaluate(test_dataset, verbose=0)\n",
        "    print(f\"Test RMSE: {round(rmse, 3)}\")\n"
      ]
    },
    {
      "cell_type": "markdown",
      "metadata": {
        "id": "tHoGJPopJZX6"
      },
      "source": [
        "## Create model inputs"
      ]
    },
    {
      "cell_type": "code",
      "execution_count": 7,
      "metadata": {
        "id": "4gjSUoRRJZX7",
        "tags": []
      },
      "outputs": [],
      "source": [
        "FEATURE_NAMES = [\n",
        "    \"fixed acidity\",\n",
        "    \"volatile acidity\",\n",
        "    \"citric acid\",\n",
        "    \"residual sugar\",\n",
        "    \"chlorides\",\n",
        "    \"free sulfur dioxide\",\n",
        "    \"total sulfur dioxide\",\n",
        "    \"density\",\n",
        "    \"pH\",\n",
        "    \"sulphates\",\n",
        "    \"alcohol\",\n",
        "]\n",
        "\n",
        "\n",
        "def create_model_inputs():\n",
        "    inputs = {}\n",
        "    for feature_name in FEATURE_NAMES:\n",
        "        inputs[feature_name] = layers.Input(\n",
        "            name=feature_name, shape=(1,), dtype=tf.float32\n",
        "        )\n",
        "    return inputs\n"
      ]
    },
    {
      "cell_type": "markdown",
      "metadata": {
        "id": "RyCIq6FlJZX7"
      },
      "source": [
        "## Experiment 1: standard neural network\n",
        "\n",
        "We create a standard deterministic neural network model as a baseline."
      ]
    },
    {
      "cell_type": "code",
      "execution_count": 8,
      "metadata": {
        "id": "NmMnI_LzJZX7",
        "tags": []
      },
      "outputs": [],
      "source": [
        "def create_baseline_model():\n",
        "    inputs = create_model_inputs()\n",
        "    input_values = [value for _, value in sorted(inputs.items())]\n",
        "    features = keras.layers.concatenate(input_values)\n",
        "    features = layers.BatchNormalization()(features)\n",
        "\n",
        "    # Create hidden layers with deterministic weights using the Dense layer.\n",
        "    for units in hidden_units:\n",
        "        features = layers.Dense(units, activation=\"sigmoid\")(features)\n",
        "    # The output is deterministic: a single point estimate.\n",
        "    outputs = layers.Dense(units=1)(features)\n",
        "\n",
        "    model = keras.Model(inputs=inputs, outputs=outputs)\n",
        "    return model\n"
      ]
    },
    {
      "cell_type": "markdown",
      "metadata": {
        "id": "bV0P5F9FJZX7"
      },
      "source": [
        "Let's split the wine dataset into training and test sets, with 85% and 15% of\n",
        "the examples, respectively."
      ]
    },
    {
      "cell_type": "code",
      "execution_count": 9,
      "metadata": {
        "colab": {
          "base_uri": "https://localhost:8080/",
          "height": 174,
          "referenced_widgets": [
            "2c40c60e0dbc47089dcbbff06f158e3c",
            "e9bdbbb5d4ff4651b9ef19a6ea98e754",
            "588926ea240a41edb87e70c741532246",
            "2ef499bed4b34a7ea9f1a659dbacd74b",
            "5f3a9a3e4f2e483cb33702997f18b78e",
            "14a2cb67141849fb95487a026ba71cc1",
            "5f1affa71c2544138cbb9e37b73a860d",
            "c6faf2f344aa48fea3e5897a22a0060b",
            "bbaec30713224ae09e34ff5b17f5b66f",
            "95e5dd9bb94b4e80a17fe0b7453c9fe3",
            "7b8a109781cf41fe89faa419e28320eb",
            "c9c29f401cd14c7e8c479f4ce7972fe4",
            "d5321c7b59f8408ebccb32b003fe5647",
            "51770315efa24ea2b31b8a2feeb8061f",
            "e24b7d17d2954aa49dcb666fc25f76b7",
            "c461c50a2a3c41819a57cef2bc0971d0",
            "5c4ad7bd5fea44799430d46f59e88226",
            "1ef246b983f3475fb41ca1bf00499175",
            "711eef6f536b43079b91347da31275b5",
            "43cbe3f56b454736920fe87d7474e634",
            "fead9177659f4ed9ae86765d34400792",
            "5ba86c686ed2435a93db9b07f0354d2a",
            "84f8dd38d9694b599b25b74727f4f5d6",
            "4a46cde9f26f474082296147441d345f",
            "aaebf73806924f3984aced78b9c09245",
            "4c3ccd07428c40a9838775d3ac195ddc",
            "f623c47dc6d7478e9989cba8ceca3430",
            "808caee7e2014fa0acbc9f1e9d08793c",
            "8e00a8f0929e4e0487542dae976fefcf",
            "63f3f0f590b24f41a44c9a7dc573795e",
            "efebfe00940b40399ccac009f4671205",
            "ee78f48d0a784028acfe810075992f8c",
            "7a04c0ce3352438a94dbba66b21c28f2",
            "65e9362772eb4894933b0434690503e3",
            "b06c1d66d4fb41bfba4f0c1f6b3afa6f",
            "3babc4fc4988476a827d8a169887212c",
            "ce3731306ad743808852f66f5f7750f2",
            "ed76d7f43cea4ba88231f18adf8c72ce",
            "bf8e1c0a7618418dbea7717f64c740ab",
            "3ab4dfeba937489188fa71e729b59f4c",
            "0453085172004e988ad262b1a9ed8b01",
            "cc11668a21ce4caa83cf8d58a481a05c",
            "2d965bc5331a472bad011e1bf511c94c",
            "706ed1ae391f44599943881a1bb51a69",
            "c63fcc4daeae49f3a75ce63ad0313fed",
            "21de7c9557bd4fd6a2336d2771f3d227",
            "bcc8a94b447048e7b57df7b50d521102",
            "c379e535fdfa4043b4e0161f6d59c1fe",
            "9348f03dd5e347c6a55623a14eb993b6",
            "25b5694002cb488c90a8cdf258ca290b",
            "3577e4e98d564d0a8fb2803869ca9b3d",
            "0f81e9dbdad34fba81039c9d234a437d",
            "be57f8dc160c4cd5812f68b9a8d5f089",
            "e3680983ca0e4db58c5fca67a426d184",
            "895b341af8bc4b7698453a847cc7ebd3"
          ]
        },
        "id": "j71HZHqEJZX7",
        "outputId": "d36c2b33-f711-43b2-b357-f4c00e275fd7",
        "tags": []
      },
      "outputs": [
        {
          "name": "stderr",
          "output_type": "stream",
          "text": [
            "WARNING:absl:You use TensorFlow DType <dtype: 'float32'> in tfds.features This will soon be deprecated in favor of NumPy DTypes. In the meantime it was converted to float32.\n",
            "WARNING:absl:You use TensorFlow DType <dtype: 'float64'> in tfds.features This will soon be deprecated in favor of NumPy DTypes. In the meantime it was converted to float64.\n"
          ]
        },
        {
          "name": "stdout",
          "output_type": "stream",
          "text": [
            "Downloading and preparing dataset 258.23 KiB (download: 258.23 KiB, generated: 1.87 MiB, total: 2.13 MiB) to ../datasets/wine_quality/white/1.0.0...\n"
          ]
        },
        {
          "data": {
            "application/vnd.jupyter.widget-view+json": {
              "model_id": "2c40c60e0dbc47089dcbbff06f158e3c",
              "version_major": 2,
              "version_minor": 0
            },
            "text/plain": [
              "Dl Completed...: 0 url [00:00, ? url/s]"
            ]
          },
          "metadata": {},
          "output_type": "display_data"
        },
        {
          "data": {
            "application/vnd.jupyter.widget-view+json": {
              "model_id": "c9c29f401cd14c7e8c479f4ce7972fe4",
              "version_major": 2,
              "version_minor": 0
            },
            "text/plain": [
              "Dl Size...: 0 MiB [00:00, ? MiB/s]"
            ]
          },
          "metadata": {},
          "output_type": "display_data"
        },
        {
          "data": {
            "application/vnd.jupyter.widget-view+json": {
              "model_id": "84f8dd38d9694b599b25b74727f4f5d6",
              "version_major": 2,
              "version_minor": 0
            },
            "text/plain": [
              "Generating splits...:   0%|          | 0/1 [00:00<?, ? splits/s]"
            ]
          },
          "metadata": {},
          "output_type": "display_data"
        },
        {
          "data": {
            "application/vnd.jupyter.widget-view+json": {
              "model_id": "65e9362772eb4894933b0434690503e3",
              "version_major": 2,
              "version_minor": 0
            },
            "text/plain": [
              "Generating train examples...:   0%|          | 0/4898 [00:00<?, ? examples/s]"
            ]
          },
          "metadata": {},
          "output_type": "display_data"
        },
        {
          "data": {
            "application/vnd.jupyter.widget-view+json": {
              "model_id": "c63fcc4daeae49f3a75ce63ad0313fed",
              "version_major": 2,
              "version_minor": 0
            },
            "text/plain": [
              "Shuffling ../datasets/wine_quality/white/incomplete.23IADP_1.0.0/wine_quality-train.tfrecord*...:   0%|       …"
            ]
          },
          "metadata": {},
          "output_type": "display_data"
        },
        {
          "name": "stdout",
          "output_type": "stream",
          "text": [
            "Dataset wine_quality downloaded and prepared to ../datasets/wine_quality/white/1.0.0. Subsequent calls will reuse this data.\n"
          ]
        }
      ],
      "source": [
        "dataset_size = 4898\n",
        "batch_size = 256\n",
        "train_size = int(dataset_size * 0.85)\n",
        "train_dataset, test_dataset = get_train_and_test_splits(train_size, batch_size)\n"
      ]
    },
    {
      "cell_type": "markdown",
      "metadata": {
        "id": "mwPeGoCTJZX8"
      },
      "source": [
        "Now let's train the baseline model. We use the `MeanSquaredError`\n",
        "as the loss function."
      ]
    },
    {
      "cell_type": "code",
      "execution_count": 10,
      "metadata": {
        "colab": {
          "base_uri": "https://localhost:8080/"
        },
        "id": "pAMJafENJZX8",
        "outputId": "ef2920f3-af5d-4b36-9731-f7cde70bbd7e",
        "tags": []
      },
      "outputs": [
        {
          "name": "stdout",
          "output_type": "stream",
          "text": [
            "Start training the model...\n",
            "Model training finished.\n",
            "Train RMSE: 0.753\n",
            "Evaluating model performance...\n",
            "Test RMSE: 0.753\n"
          ]
        }
      ],
      "source": [
        "num_epochs = 100\n",
        "mse_loss = keras.losses.MeanSquaredError()\n",
        "baseline_model = create_baseline_model()\n",
        "run_experiment(baseline_model, mse_loss, train_dataset, test_dataset)"
      ]
    },
    {
      "cell_type": "markdown",
      "metadata": {
        "id": "SYVUafCKJZX8"
      },
      "source": [
        "We take a sample from the test set use the model to obtain predictions for them.\n",
        "Note that since the baseline model is deterministic, we get a single a\n",
        "*point estimate* prediction for each test example, with no information about the\n",
        "uncertainty of the model nor the prediction."
      ]
    },
    {
      "cell_type": "code",
      "execution_count": 11,
      "metadata": {
        "colab": {
          "base_uri": "https://localhost:8080/"
        },
        "id": "sBt9xVWJJZX8",
        "outputId": "ad5bce3f-fba8-4492-ce0d-d64889eb0b2b",
        "tags": []
      },
      "outputs": [
        {
          "name": "stdout",
          "output_type": "stream",
          "text": [
            "Predicted: 6.5 - Actual: 6.0\n",
            "Predicted: 5.9 - Actual: 3.0\n",
            "Predicted: 5.0 - Actual: 5.0\n",
            "Predicted: 6.5 - Actual: 7.0\n",
            "Predicted: 5.4 - Actual: 6.0\n",
            "Predicted: 6.0 - Actual: 7.0\n",
            "Predicted: 5.2 - Actual: 5.0\n",
            "Predicted: 6.3 - Actual: 6.0\n",
            "Predicted: 5.4 - Actual: 6.0\n",
            "Predicted: 6.5 - Actual: 4.0\n"
          ]
        }
      ],
      "source": [
        "sample = 10\n",
        "examples, targets = list(test_dataset.unbatch().shuffle(batch_size * 10).batch(sample))[\n",
        "    0\n",
        "]\n",
        "\n",
        "predicted = baseline_model(examples).numpy()\n",
        "for idx in range(sample):\n",
        "    print(f\"Predicted: {round(float(predicted[idx][0]), 1)} - Actual: {targets[idx]}\")"
      ]
    },
    {
      "cell_type": "markdown",
      "metadata": {
        "id": "RRyLpJQ4JZX8"
      },
      "source": [
        "## Experiment 2: Bayesian neural network (BNN)\n",
        "\n",
        "The object of the Bayesian approach for modeling neural networks is to capture\n",
        "the *epistemic uncertainty*, which is uncertainty about the model fitness,\n",
        "due to limited training data.\n",
        "\n",
        "The idea is that, instead of learning specific weight (and bias) *values* in the\n",
        "neural network, the Bayesian approach learns weight *distributions*\n",
        "- from which we can sample to produce an output for a given input -\n",
        "to encode weight uncertainty.\n",
        "\n",
        "Thus, we need to define prior and the posterior distributions of these weights,\n",
        "and the training process is to learn the parameters of these distributions."
      ]
    },
    {
      "cell_type": "code",
      "execution_count": 12,
      "metadata": {
        "id": "eRZ-K9-yJZX8",
        "tags": []
      },
      "outputs": [],
      "source": [
        "# Define the prior weight distribution as Normal of mean=0 and stddev=1.\n",
        "# Note that, in this example, the prior distribution is not trainable,\n",
        "# as we fix its parameters.\n",
        "def prior(kernel_size, bias_size, dtype=None):\n",
        "    n = kernel_size + bias_size\n",
        "    prior_model = keras.Sequential(\n",
        "        [\n",
        "            tfp.layers.DistributionLambda(\n",
        "                lambda t: tfp.distributions.MultivariateNormalDiag(\n",
        "                    loc=tf.zeros(n), scale_diag=tf.ones(n)\n",
        "                )\n",
        "            )\n",
        "        ]\n",
        "    )\n",
        "    return prior_model\n",
        "\n",
        "\n",
        "# Define variational posterior weight distribution as multivariate Gaussian.\n",
        "# Note that the learnable parameters for this distribution are the means,\n",
        "# variances, and covariances.\n",
        "def posterior(kernel_size, bias_size, dtype=None):\n",
        "    n = kernel_size + bias_size\n",
        "    posterior_model = keras.Sequential(\n",
        "        [\n",
        "            tfp.layers.VariableLayer(\n",
        "                tfp.layers.MultivariateNormalTriL.params_size(n), dtype=dtype\n",
        "            ),\n",
        "            tfp.layers.MultivariateNormalTriL(n),\n",
        "        ]\n",
        "    )\n",
        "    return posterior_model\n"
      ]
    },
    {
      "cell_type": "markdown",
      "metadata": {
        "id": "1oyFZyk6JZX9"
      },
      "source": [
        "We use the `tfp.layers.DenseVariational` layer instead of the standard\n",
        "`keras.layers.Dense` layer in the neural network model."
      ]
    },
    {
      "cell_type": "code",
      "execution_count": 15,
      "metadata": {
        "id": "EtdF-vuJJZX9",
        "tags": []
      },
      "outputs": [],
      "source": [
        "def create_bnn_model(train_size):\n",
        "    inputs = create_model_inputs()\n",
        "    features = keras.layers.concatenate(list(inputs.values()))\n",
        "    features = layers.BatchNormalization()(features)\n",
        "\n",
        "    # Create hidden layers with weight uncertainty using the DenseVariational layer.\n",
        "    for units in hidden_units:\n",
        "        features = tfp.layers.DenseVariational(\n",
        "            units=units,\n",
        "            make_prior_fn=prior,\n",
        "            make_posterior_fn=posterior,\n",
        "            kl_weight=1 / train_size,\n",
        "            activation=\"sigmoid\",\n",
        "        )(features)\n",
        "\n",
        "    # The output is deterministic: a single point estimate.\n",
        "    outputs = layers.Dense(units=1)(features)\n",
        "    model = keras.Model(inputs=inputs, outputs=outputs)\n",
        "    return model\n"
      ]
    },
    {
      "cell_type": "markdown",
      "metadata": {
        "id": "7mWuwXVoJZX9"
      },
      "source": [
        "The epistemic uncertainty can be reduced as we increase the size of the\n",
        "training data. That is, the more data the BNN model sees, the more it is certain\n",
        "about its estimates for the weights (distribution parameters).\n",
        "Let's test this behaviour by training the BNN model on a small subset of\n",
        "the training set, and then on the full training set, to compare the output variances."
      ]
    },
    {
      "cell_type": "markdown",
      "metadata": {
        "id": "qVqiPpv3JZX9"
      },
      "source": [
        "### Train BNN  with a small training subset."
      ]
    },
    {
      "cell_type": "code",
      "execution_count": 16,
      "metadata": {
        "colab": {
          "base_uri": "https://localhost:8080/"
        },
        "id": "_FTuHpudJZX9",
        "outputId": "e29fdf68-3c22-46b2-cca9-48fd634bbd1d",
        "tags": []
      },
      "outputs": [
        {
          "name": "stdout",
          "output_type": "stream",
          "text": [
            "Start training the model...\n",
            "Model training finished.\n",
            "Train RMSE: 0.793\n",
            "Evaluating model performance...\n",
            "Test RMSE: 0.79\n"
          ]
        }
      ],
      "source": [
        "num_epochs = 500\n",
        "train_sample_size = int(train_size * 0.3)\n",
        "small_train_dataset = train_dataset.unbatch().take(train_sample_size).batch(batch_size)\n",
        "\n",
        "bnn_model_small = create_bnn_model(train_sample_size)\n",
        "run_experiment(bnn_model_small, mse_loss, small_train_dataset, test_dataset)"
      ]
    },
    {
      "cell_type": "markdown",
      "metadata": {
        "id": "fO-VvjydJZX9"
      },
      "source": [
        "Since we have trained a BNN model, the model produces a different output each time\n",
        "we call it with the same input, since each time a new set of weights are sampled\n",
        "from the distributions to construct the network and produce an output.\n",
        "The less certain the mode weights are, the more variability (wider range) we will\n",
        "see in the outputs of the same inputs."
      ]
    },
    {
      "cell_type": "code",
      "execution_count": 17,
      "metadata": {
        "colab": {
          "base_uri": "https://localhost:8080/"
        },
        "id": "oDLpALs7JZX-",
        "outputId": "cd5fd894-8391-44b3-f401-6560fc87538a",
        "tags": []
      },
      "outputs": [
        {
          "name": "stdout",
          "output_type": "stream",
          "text": [
            "Predictions mean: 6.31, min: 5.82, max: 6.42, range: 0.6 - Actual: 6.0\n",
            "Predictions mean: 5.66, min: 5.01, max: 6.11, range: 1.09 - Actual: 3.0\n",
            "Predictions mean: 5.12, min: 4.54, max: 5.84, range: 1.31 - Actual: 5.0\n",
            "Predictions mean: 6.32, min: 5.72, max: 6.44, range: 0.72 - Actual: 7.0\n",
            "Predictions mean: 5.47, min: 4.77, max: 6.03, range: 1.26 - Actual: 6.0\n",
            "Predictions mean: 5.94, min: 5.51, max: 6.25, range: 0.74 - Actual: 7.0\n",
            "Predictions mean: 5.24, min: 4.48, max: 5.84, range: 1.37 - Actual: 5.0\n",
            "Predictions mean: 6.27, min: 5.88, max: 6.43, range: 0.55 - Actual: 6.0\n",
            "Predictions mean: 5.59, min: 4.79, max: 6.15, range: 1.37 - Actual: 6.0\n",
            "Predictions mean: 6.3, min: 5.76, max: 6.44, range: 0.68 - Actual: 4.0\n"
          ]
        }
      ],
      "source": [
        "def compute_predictions(model, iterations=100):\n",
        "    predicted = []\n",
        "    for _ in range(iterations):\n",
        "        predicted.append(model(examples).numpy())\n",
        "    predicted = np.concatenate(predicted, axis=1)\n",
        "\n",
        "    prediction_mean = np.mean(predicted, axis=1).tolist()\n",
        "    prediction_min = np.min(predicted, axis=1).tolist()\n",
        "    prediction_max = np.max(predicted, axis=1).tolist()\n",
        "    prediction_range = (np.max(predicted, axis=1) - np.min(predicted, axis=1)).tolist()\n",
        "\n",
        "    for idx in range(sample):\n",
        "        print(\n",
        "            f\"Predictions mean: {round(prediction_mean[idx], 2)}, \"\n",
        "            f\"min: {round(prediction_min[idx], 2)}, \"\n",
        "            f\"max: {round(prediction_max[idx], 2)}, \"\n",
        "            f\"range: {round(prediction_range[idx], 2)} - \"\n",
        "            f\"Actual: {targets[idx]}\"\n",
        "        )\n",
        "\n",
        "\n",
        "compute_predictions(bnn_model_small)"
      ]
    },
    {
      "cell_type": "markdown",
      "metadata": {
        "id": "Mh1cMJ1VJZX-"
      },
      "source": [
        "### Train BNN  with the whole training set."
      ]
    },
    {
      "cell_type": "code",
      "execution_count": 18,
      "metadata": {
        "colab": {
          "base_uri": "https://localhost:8080/"
        },
        "id": "_e8b8DCJJZX-",
        "outputId": "3c8d7f97-f035-4a04-9dbe-4fc2283db375",
        "tags": []
      },
      "outputs": [
        {
          "name": "stdout",
          "output_type": "stream",
          "text": [
            "Start training the model...\n",
            "Model training finished.\n",
            "Train RMSE: 0.765\n",
            "Evaluating model performance...\n",
            "Test RMSE: 0.772\n",
            "Predictions mean: 6.5, min: 6.33, max: 6.61, range: 0.28 - Actual: 6.0\n",
            "Predictions mean: 5.76, min: 5.31, max: 6.29, range: 0.98 - Actual: 3.0\n",
            "Predictions mean: 5.12, min: 4.69, max: 5.44, range: 0.75 - Actual: 5.0\n",
            "Predictions mean: 6.54, min: 6.38, max: 6.63, range: 0.25 - Actual: 7.0\n",
            "Predictions mean: 5.47, min: 5.08, max: 5.85, range: 0.77 - Actual: 6.0\n",
            "Predictions mean: 5.8, min: 5.5, max: 6.1, range: 0.6 - Actual: 7.0\n",
            "Predictions mean: 5.22, min: 4.86, max: 5.58, range: 0.72 - Actual: 5.0\n",
            "Predictions mean: 6.37, min: 6.11, max: 6.51, range: 0.4 - Actual: 6.0\n",
            "Predictions mean: 5.47, min: 5.0, max: 5.85, range: 0.86 - Actual: 6.0\n",
            "Predictions mean: 6.55, min: 6.39, max: 6.65, range: 0.26 - Actual: 4.0\n"
          ]
        }
      ],
      "source": [
        "num_epochs = 500\n",
        "bnn_model_full = create_bnn_model(train_size)\n",
        "run_experiment(bnn_model_full, mse_loss, train_dataset, test_dataset)\n",
        "\n",
        "compute_predictions(bnn_model_full)"
      ]
    },
    {
      "cell_type": "markdown",
      "metadata": {
        "id": "Zd0ET93XJZX-"
      },
      "source": [
        "Notice that the model trained with the full training dataset shows smaller range\n",
        "(uncertainty) in the prediction values for the same inputs, compared to the model\n",
        "trained with a subset of the training dataset."
      ]
    },
    {
      "cell_type": "markdown",
      "metadata": {
        "id": "2b2sbxYRJZX-"
      },
      "source": [
        "## Experiment 3: probabilistic Bayesian neural network\n",
        "\n",
        "So far, the output of the standard and the Bayesian NN models that we built is\n",
        "deterministic, that is, produces a point estimate as a prediction for a given example.\n",
        "We can create a probabilistic NN by letting the model output a distribution.\n",
        "In this case, the model captures the *aleatoric uncertainty* as well,\n",
        "which is due to irreducible noise in the data, or to the stochastic nature of the\n",
        "process generating the data.\n",
        "\n",
        "In this example, we model the output as a `IndependentNormal` distribution,\n",
        "with learnable mean and variance parameters. If the task was classification,\n",
        "we would have used `IndependentBernoulli` with binary classes, and `OneHotCategorical`\n",
        "with multiple classes, to model distribution of the model output."
      ]
    },
    {
      "cell_type": "code",
      "execution_count": 19,
      "metadata": {
        "id": "9nzDZQedJZX_",
        "tags": []
      },
      "outputs": [],
      "source": [
        "def create_probablistic_bnn_model(train_size):\n",
        "    inputs = create_model_inputs()\n",
        "    features = keras.layers.concatenate(list(inputs.values()))\n",
        "    features = layers.BatchNormalization()(features)\n",
        "\n",
        "    # Create hidden layers with weight uncertainty using the DenseVariational layer.\n",
        "    for units in hidden_units:\n",
        "        features = tfp.layers.DenseVariational(\n",
        "            units=units,\n",
        "            make_prior_fn=prior,\n",
        "            make_posterior_fn=posterior,\n",
        "            kl_weight=1 / train_size,\n",
        "            activation=\"sigmoid\",\n",
        "        )(features)\n",
        "\n",
        "    # Create a probabilistic output (Normal distribution), and use the `Dense` layer\n",
        "    # to produce the parameters of the distribution.\n",
        "    # We set units=2 to learn both the mean and the variance of the Normal distribution.\n",
        "    distribution_params = layers.Dense(units=2)(features)\n",
        "    outputs = tfp.layers.IndependentNormal(1)(distribution_params)\n",
        "\n",
        "    model = keras.Model(inputs=inputs, outputs=outputs)\n",
        "    return model\n"
      ]
    },
    {
      "cell_type": "markdown",
      "metadata": {
        "id": "qUFOwXTyJZX_"
      },
      "source": [
        "Since the output of the model is a distribution, rather than a point estimate,\n",
        "we use the [negative loglikelihood](https://en.wikipedia.org/wiki/Likelihood_function)\n",
        "as our loss function to compute how likely to see the true data (targets) from the\n",
        "estimated distribution produced by the model."
      ]
    },
    {
      "cell_type": "code",
      "execution_count": 20,
      "metadata": {
        "colab": {
          "base_uri": "https://localhost:8080/"
        },
        "id": "5SdzlMuvJZYA",
        "outputId": "1dbeeb99-44b8-400d-c78f-f022919925e1",
        "tags": []
      },
      "outputs": [
        {
          "name": "stdout",
          "output_type": "stream",
          "text": [
            "Start training the model...\n",
            "Model training finished.\n",
            "Train RMSE: 1.079\n",
            "Evaluating model performance...\n",
            "Test RMSE: 1.058\n"
          ]
        }
      ],
      "source": [
        "def negative_loglikelihood(targets, estimated_distribution):\n",
        "    return -estimated_distribution.log_prob(targets)\n",
        "\n",
        "\n",
        "num_epochs = 1000\n",
        "prob_bnn_model = create_probablistic_bnn_model(train_size)\n",
        "run_experiment(prob_bnn_model, negative_loglikelihood, train_dataset, test_dataset)"
      ]
    },
    {
      "cell_type": "markdown",
      "metadata": {
        "id": "53qcYDKyJZYA"
      },
      "source": [
        "Now let's produce an output from the model given the test examples.\n",
        "The output is now a distribution, and we can use its mean and variance\n",
        "to compute the confidence intervals (CI) of the prediction."
      ]
    },
    {
      "cell_type": "code",
      "execution_count": 21,
      "metadata": {
        "colab": {
          "base_uri": "https://localhost:8080/"
        },
        "id": "Dv_RwLyFJZYA",
        "outputId": "6a3c415f-d8ce-4d81-c7af-88b4a7bb50e2",
        "tags": []
      },
      "outputs": [
        {
          "name": "stdout",
          "output_type": "stream",
          "text": [
            "Prediction mean: 6.15, stddev: 0.76, 95% CI: [7.65 - 4.65] - Actual: 6.0\n",
            "Prediction mean: 5.54, stddev: 0.74, 95% CI: [6.98 - 4.1] - Actual: 3.0\n",
            "Prediction mean: 5.13, stddev: 0.67, 95% CI: [6.44 - 3.83] - Actual: 5.0\n",
            "Prediction mean: 6.32, stddev: 0.81, 95% CI: [7.89 - 4.74] - Actual: 7.0\n",
            "Prediction mean: 5.52, stddev: 0.73, 95% CI: [6.94 - 4.1] - Actual: 6.0\n",
            "Prediction mean: 5.7, stddev: 0.73, 95% CI: [7.13 - 4.26] - Actual: 7.0\n",
            "Prediction mean: 5.27, stddev: 0.68, 95% CI: [6.61 - 3.93] - Actual: 5.0\n",
            "Prediction mean: 6.12, stddev: 0.76, 95% CI: [7.6 - 4.63] - Actual: 6.0\n",
            "Prediction mean: 5.53, stddev: 0.71, 95% CI: [6.93 - 4.14] - Actual: 6.0\n",
            "Prediction mean: 6.32, stddev: 0.82, 95% CI: [7.93 - 4.72] - Actual: 4.0\n"
          ]
        }
      ],
      "source": [
        "prediction_distribution = prob_bnn_model(examples)\n",
        "prediction_mean = prediction_distribution.mean().numpy().tolist()\n",
        "prediction_stdv = prediction_distribution.stddev().numpy()\n",
        "\n",
        "# The 95% CI is computed as mean ± (1.96 * stdv)\n",
        "upper = (prediction_mean + (1.96 * prediction_stdv)).tolist()\n",
        "lower = (prediction_mean - (1.96 * prediction_stdv)).tolist()\n",
        "prediction_stdv = prediction_stdv.tolist()\n",
        "\n",
        "for idx in range(sample):\n",
        "    print(\n",
        "        f\"Prediction mean: {round(prediction_mean[idx][0], 2)}, \"\n",
        "        f\"stddev: {round(prediction_stdv[idx][0], 2)}, \"\n",
        "        f\"95% CI: [{round(upper[idx][0], 2)} - {round(lower[idx][0], 2)}]\"\n",
        "        f\" - Actual: {targets[idx]}\"\n",
        "    )"
      ]
    }
  ],
  "metadata": {
    "accelerator": "GPU",
    "colab": {
      "include_colab_link": true,
      "name": "bayesian_neural_networks_wine",
      "provenance": []
    },
    "kernelspec": {
      "display_name": "sc_venv_tf",
      "language": "python",
      "name": "sc_venv_tf"
    },
    "language_info": {
      "codemirror_mode": {
        "name": "ipython",
        "version": 3
      },
      "file_extension": ".py",
      "mimetype": "text/x-python",
      "name": "python",
      "nbconvert_exporter": "python",
      "pygments_lexer": "ipython3",
      "version": "3.10.4"
    },
    "widgets": {
      "application/vnd.jupyter.widget-state+json": {
        "0453085172004e988ad262b1a9ed8b01": {
          "model_module": "@jupyter-widgets/base",
          "model_module_version": "1.2.0",
          "model_name": "LayoutModel",
          "state": {
            "_model_module": "@jupyter-widgets/base",
            "_model_module_version": "1.2.0",
            "_model_name": "LayoutModel",
            "_view_count": null,
            "_view_module": "@jupyter-widgets/base",
            "_view_module_version": "1.2.0",
            "_view_name": "LayoutView",
            "align_content": null,
            "align_items": null,
            "align_self": null,
            "border": null,
            "bottom": null,
            "display": null,
            "flex": null,
            "flex_flow": null,
            "grid_area": null,
            "grid_auto_columns": null,
            "grid_auto_flow": null,
            "grid_auto_rows": null,
            "grid_column": null,
            "grid_gap": null,
            "grid_row": null,
            "grid_template_areas": null,
            "grid_template_columns": null,
            "grid_template_rows": null,
            "height": null,
            "justify_content": null,
            "justify_items": null,
            "left": null,
            "margin": null,
            "max_height": null,
            "max_width": null,
            "min_height": null,
            "min_width": null,
            "object_fit": null,
            "object_position": null,
            "order": null,
            "overflow": null,
            "overflow_x": null,
            "overflow_y": null,
            "padding": null,
            "right": null,
            "top": null,
            "visibility": null,
            "width": null
          }
        },
        "0f81e9dbdad34fba81039c9d234a437d": {
          "model_module": "@jupyter-widgets/base",
          "model_module_version": "1.2.0",
          "model_name": "LayoutModel",
          "state": {
            "_model_module": "@jupyter-widgets/base",
            "_model_module_version": "1.2.0",
            "_model_name": "LayoutModel",
            "_view_count": null,
            "_view_module": "@jupyter-widgets/base",
            "_view_module_version": "1.2.0",
            "_view_name": "LayoutView",
            "align_content": null,
            "align_items": null,
            "align_self": null,
            "border": null,
            "bottom": null,
            "display": null,
            "flex": null,
            "flex_flow": null,
            "grid_area": null,
            "grid_auto_columns": null,
            "grid_auto_flow": null,
            "grid_auto_rows": null,
            "grid_column": null,
            "grid_gap": null,
            "grid_row": null,
            "grid_template_areas": null,
            "grid_template_columns": null,
            "grid_template_rows": null,
            "height": null,
            "justify_content": null,
            "justify_items": null,
            "left": null,
            "margin": null,
            "max_height": null,
            "max_width": null,
            "min_height": null,
            "min_width": null,
            "object_fit": null,
            "object_position": null,
            "order": null,
            "overflow": null,
            "overflow_x": null,
            "overflow_y": null,
            "padding": null,
            "right": null,
            "top": null,
            "visibility": null,
            "width": null
          }
        },
        "14a2cb67141849fb95487a026ba71cc1": {
          "model_module": "@jupyter-widgets/base",
          "model_module_version": "1.2.0",
          "model_name": "LayoutModel",
          "state": {
            "_model_module": "@jupyter-widgets/base",
            "_model_module_version": "1.2.0",
            "_model_name": "LayoutModel",
            "_view_count": null,
            "_view_module": "@jupyter-widgets/base",
            "_view_module_version": "1.2.0",
            "_view_name": "LayoutView",
            "align_content": null,
            "align_items": null,
            "align_self": null,
            "border": null,
            "bottom": null,
            "display": null,
            "flex": null,
            "flex_flow": null,
            "grid_area": null,
            "grid_auto_columns": null,
            "grid_auto_flow": null,
            "grid_auto_rows": null,
            "grid_column": null,
            "grid_gap": null,
            "grid_row": null,
            "grid_template_areas": null,
            "grid_template_columns": null,
            "grid_template_rows": null,
            "height": null,
            "justify_content": null,
            "justify_items": null,
            "left": null,
            "margin": null,
            "max_height": null,
            "max_width": null,
            "min_height": null,
            "min_width": null,
            "object_fit": null,
            "object_position": null,
            "order": null,
            "overflow": null,
            "overflow_x": null,
            "overflow_y": null,
            "padding": null,
            "right": null,
            "top": null,
            "visibility": null,
            "width": null
          }
        },
        "1ef246b983f3475fb41ca1bf00499175": {
          "model_module": "@jupyter-widgets/controls",
          "model_module_version": "1.5.0",
          "model_name": "DescriptionStyleModel",
          "state": {
            "_model_module": "@jupyter-widgets/controls",
            "_model_module_version": "1.5.0",
            "_model_name": "DescriptionStyleModel",
            "_view_count": null,
            "_view_module": "@jupyter-widgets/base",
            "_view_module_version": "1.2.0",
            "_view_name": "StyleView",
            "description_width": ""
          }
        },
        "21de7c9557bd4fd6a2336d2771f3d227": {
          "model_module": "@jupyter-widgets/controls",
          "model_module_version": "1.5.0",
          "model_name": "HTMLModel",
          "state": {
            "_dom_classes": [],
            "_model_module": "@jupyter-widgets/controls",
            "_model_module_version": "1.5.0",
            "_model_name": "HTMLModel",
            "_view_count": null,
            "_view_module": "@jupyter-widgets/controls",
            "_view_module_version": "1.5.0",
            "_view_name": "HTMLView",
            "description": "",
            "description_tooltip": null,
            "layout": "IPY_MODEL_25b5694002cb488c90a8cdf258ca290b",
            "placeholder": "​",
            "style": "IPY_MODEL_3577e4e98d564d0a8fb2803869ca9b3d",
            "value": "Shuffling ../datasets/wine_quality/white/incomplete.23IADP_1.0.0/wine_quality-train.tfrecord*...:   0%"
          }
        },
        "25b5694002cb488c90a8cdf258ca290b": {
          "model_module": "@jupyter-widgets/base",
          "model_module_version": "1.2.0",
          "model_name": "LayoutModel",
          "state": {
            "_model_module": "@jupyter-widgets/base",
            "_model_module_version": "1.2.0",
            "_model_name": "LayoutModel",
            "_view_count": null,
            "_view_module": "@jupyter-widgets/base",
            "_view_module_version": "1.2.0",
            "_view_name": "LayoutView",
            "align_content": null,
            "align_items": null,
            "align_self": null,
            "border": null,
            "bottom": null,
            "display": null,
            "flex": null,
            "flex_flow": null,
            "grid_area": null,
            "grid_auto_columns": null,
            "grid_auto_flow": null,
            "grid_auto_rows": null,
            "grid_column": null,
            "grid_gap": null,
            "grid_row": null,
            "grid_template_areas": null,
            "grid_template_columns": null,
            "grid_template_rows": null,
            "height": null,
            "justify_content": null,
            "justify_items": null,
            "left": null,
            "margin": null,
            "max_height": null,
            "max_width": null,
            "min_height": null,
            "min_width": null,
            "object_fit": null,
            "object_position": null,
            "order": null,
            "overflow": null,
            "overflow_x": null,
            "overflow_y": null,
            "padding": null,
            "right": null,
            "top": null,
            "visibility": null,
            "width": null
          }
        },
        "2c40c60e0dbc47089dcbbff06f158e3c": {
          "model_module": "@jupyter-widgets/controls",
          "model_module_version": "1.5.0",
          "model_name": "HBoxModel",
          "state": {
            "_dom_classes": [],
            "_model_module": "@jupyter-widgets/controls",
            "_model_module_version": "1.5.0",
            "_model_name": "HBoxModel",
            "_view_count": null,
            "_view_module": "@jupyter-widgets/controls",
            "_view_module_version": "1.5.0",
            "_view_name": "HBoxView",
            "box_style": "",
            "children": [
              "IPY_MODEL_e9bdbbb5d4ff4651b9ef19a6ea98e754",
              "IPY_MODEL_588926ea240a41edb87e70c741532246",
              "IPY_MODEL_2ef499bed4b34a7ea9f1a659dbacd74b"
            ],
            "layout": "IPY_MODEL_5f3a9a3e4f2e483cb33702997f18b78e"
          }
        },
        "2d965bc5331a472bad011e1bf511c94c": {
          "model_module": "@jupyter-widgets/base",
          "model_module_version": "1.2.0",
          "model_name": "LayoutModel",
          "state": {
            "_model_module": "@jupyter-widgets/base",
            "_model_module_version": "1.2.0",
            "_model_name": "LayoutModel",
            "_view_count": null,
            "_view_module": "@jupyter-widgets/base",
            "_view_module_version": "1.2.0",
            "_view_name": "LayoutView",
            "align_content": null,
            "align_items": null,
            "align_self": null,
            "border": null,
            "bottom": null,
            "display": null,
            "flex": null,
            "flex_flow": null,
            "grid_area": null,
            "grid_auto_columns": null,
            "grid_auto_flow": null,
            "grid_auto_rows": null,
            "grid_column": null,
            "grid_gap": null,
            "grid_row": null,
            "grid_template_areas": null,
            "grid_template_columns": null,
            "grid_template_rows": null,
            "height": null,
            "justify_content": null,
            "justify_items": null,
            "left": null,
            "margin": null,
            "max_height": null,
            "max_width": null,
            "min_height": null,
            "min_width": null,
            "object_fit": null,
            "object_position": null,
            "order": null,
            "overflow": null,
            "overflow_x": null,
            "overflow_y": null,
            "padding": null,
            "right": null,
            "top": null,
            "visibility": null,
            "width": null
          }
        },
        "2ef499bed4b34a7ea9f1a659dbacd74b": {
          "model_module": "@jupyter-widgets/controls",
          "model_module_version": "1.5.0",
          "model_name": "HTMLModel",
          "state": {
            "_dom_classes": [],
            "_model_module": "@jupyter-widgets/controls",
            "_model_module_version": "1.5.0",
            "_model_name": "HTMLModel",
            "_view_count": null,
            "_view_module": "@jupyter-widgets/controls",
            "_view_module_version": "1.5.0",
            "_view_name": "HTMLView",
            "description": "",
            "description_tooltip": null,
            "layout": "IPY_MODEL_95e5dd9bb94b4e80a17fe0b7453c9fe3",
            "placeholder": "​",
            "style": "IPY_MODEL_7b8a109781cf41fe89faa419e28320eb",
            "value": " 1/1 [00:00&lt;00:00,  2.16 url/s]"
          }
        },
        "3577e4e98d564d0a8fb2803869ca9b3d": {
          "model_module": "@jupyter-widgets/controls",
          "model_module_version": "1.5.0",
          "model_name": "DescriptionStyleModel",
          "state": {
            "_model_module": "@jupyter-widgets/controls",
            "_model_module_version": "1.5.0",
            "_model_name": "DescriptionStyleModel",
            "_view_count": null,
            "_view_module": "@jupyter-widgets/base",
            "_view_module_version": "1.2.0",
            "_view_name": "StyleView",
            "description_width": ""
          }
        },
        "3ab4dfeba937489188fa71e729b59f4c": {
          "model_module": "@jupyter-widgets/controls",
          "model_module_version": "1.5.0",
          "model_name": "DescriptionStyleModel",
          "state": {
            "_model_module": "@jupyter-widgets/controls",
            "_model_module_version": "1.5.0",
            "_model_name": "DescriptionStyleModel",
            "_view_count": null,
            "_view_module": "@jupyter-widgets/base",
            "_view_module_version": "1.2.0",
            "_view_name": "StyleView",
            "description_width": ""
          }
        },
        "3babc4fc4988476a827d8a169887212c": {
          "model_module": "@jupyter-widgets/controls",
          "model_module_version": "1.5.0",
          "model_name": "FloatProgressModel",
          "state": {
            "_dom_classes": [],
            "_model_module": "@jupyter-widgets/controls",
            "_model_module_version": "1.5.0",
            "_model_name": "FloatProgressModel",
            "_view_count": null,
            "_view_module": "@jupyter-widgets/controls",
            "_view_module_version": "1.5.0",
            "_view_name": "ProgressView",
            "bar_style": "",
            "description": "",
            "description_tooltip": null,
            "layout": "IPY_MODEL_0453085172004e988ad262b1a9ed8b01",
            "max": 4898,
            "min": 0,
            "orientation": "horizontal",
            "style": "IPY_MODEL_cc11668a21ce4caa83cf8d58a481a05c",
            "value": 4898
          }
        },
        "43cbe3f56b454736920fe87d7474e634": {
          "model_module": "@jupyter-widgets/controls",
          "model_module_version": "1.5.0",
          "model_name": "ProgressStyleModel",
          "state": {
            "_model_module": "@jupyter-widgets/controls",
            "_model_module_version": "1.5.0",
            "_model_name": "ProgressStyleModel",
            "_view_count": null,
            "_view_module": "@jupyter-widgets/base",
            "_view_module_version": "1.2.0",
            "_view_name": "StyleView",
            "bar_color": null,
            "description_width": ""
          }
        },
        "4a46cde9f26f474082296147441d345f": {
          "model_module": "@jupyter-widgets/controls",
          "model_module_version": "1.5.0",
          "model_name": "HTMLModel",
          "state": {
            "_dom_classes": [],
            "_model_module": "@jupyter-widgets/controls",
            "_model_module_version": "1.5.0",
            "_model_name": "HTMLModel",
            "_view_count": null,
            "_view_module": "@jupyter-widgets/controls",
            "_view_module_version": "1.5.0",
            "_view_name": "HTMLView",
            "description": "",
            "description_tooltip": null,
            "layout": "IPY_MODEL_808caee7e2014fa0acbc9f1e9d08793c",
            "placeholder": "​",
            "style": "IPY_MODEL_8e00a8f0929e4e0487542dae976fefcf",
            "value": "Generating splits...: 100%"
          }
        },
        "4c3ccd07428c40a9838775d3ac195ddc": {
          "model_module": "@jupyter-widgets/controls",
          "model_module_version": "1.5.0",
          "model_name": "HTMLModel",
          "state": {
            "_dom_classes": [],
            "_model_module": "@jupyter-widgets/controls",
            "_model_module_version": "1.5.0",
            "_model_name": "HTMLModel",
            "_view_count": null,
            "_view_module": "@jupyter-widgets/controls",
            "_view_module_version": "1.5.0",
            "_view_name": "HTMLView",
            "description": "",
            "description_tooltip": null,
            "layout": "IPY_MODEL_ee78f48d0a784028acfe810075992f8c",
            "placeholder": "​",
            "style": "IPY_MODEL_7a04c0ce3352438a94dbba66b21c28f2",
            "value": " 1/1 [00:00&lt;00:00,  1.19 splits/s]"
          }
        },
        "51770315efa24ea2b31b8a2feeb8061f": {
          "model_module": "@jupyter-widgets/controls",
          "model_module_version": "1.5.0",
          "model_name": "FloatProgressModel",
          "state": {
            "_dom_classes": [],
            "_model_module": "@jupyter-widgets/controls",
            "_model_module_version": "1.5.0",
            "_model_name": "FloatProgressModel",
            "_view_count": null,
            "_view_module": "@jupyter-widgets/controls",
            "_view_module_version": "1.5.0",
            "_view_name": "ProgressView",
            "bar_style": "success",
            "description": "",
            "description_tooltip": null,
            "layout": "IPY_MODEL_711eef6f536b43079b91347da31275b5",
            "max": 1,
            "min": 0,
            "orientation": "horizontal",
            "style": "IPY_MODEL_43cbe3f56b454736920fe87d7474e634",
            "value": 0
          }
        },
        "588926ea240a41edb87e70c741532246": {
          "model_module": "@jupyter-widgets/controls",
          "model_module_version": "1.5.0",
          "model_name": "FloatProgressModel",
          "state": {
            "_dom_classes": [],
            "_model_module": "@jupyter-widgets/controls",
            "_model_module_version": "1.5.0",
            "_model_name": "FloatProgressModel",
            "_view_count": null,
            "_view_module": "@jupyter-widgets/controls",
            "_view_module_version": "1.5.0",
            "_view_name": "ProgressView",
            "bar_style": "success",
            "description": "",
            "description_tooltip": null,
            "layout": "IPY_MODEL_c6faf2f344aa48fea3e5897a22a0060b",
            "max": 1,
            "min": 0,
            "orientation": "horizontal",
            "style": "IPY_MODEL_bbaec30713224ae09e34ff5b17f5b66f",
            "value": 1
          }
        },
        "5ba86c686ed2435a93db9b07f0354d2a": {
          "model_module": "@jupyter-widgets/controls",
          "model_module_version": "1.5.0",
          "model_name": "DescriptionStyleModel",
          "state": {
            "_model_module": "@jupyter-widgets/controls",
            "_model_module_version": "1.5.0",
            "_model_name": "DescriptionStyleModel",
            "_view_count": null,
            "_view_module": "@jupyter-widgets/base",
            "_view_module_version": "1.2.0",
            "_view_name": "StyleView",
            "description_width": ""
          }
        },
        "5c4ad7bd5fea44799430d46f59e88226": {
          "model_module": "@jupyter-widgets/base",
          "model_module_version": "1.2.0",
          "model_name": "LayoutModel",
          "state": {
            "_model_module": "@jupyter-widgets/base",
            "_model_module_version": "1.2.0",
            "_model_name": "LayoutModel",
            "_view_count": null,
            "_view_module": "@jupyter-widgets/base",
            "_view_module_version": "1.2.0",
            "_view_name": "LayoutView",
            "align_content": null,
            "align_items": null,
            "align_self": null,
            "border": null,
            "bottom": null,
            "display": null,
            "flex": null,
            "flex_flow": null,
            "grid_area": null,
            "grid_auto_columns": null,
            "grid_auto_flow": null,
            "grid_auto_rows": null,
            "grid_column": null,
            "grid_gap": null,
            "grid_row": null,
            "grid_template_areas": null,
            "grid_template_columns": null,
            "grid_template_rows": null,
            "height": null,
            "justify_content": null,
            "justify_items": null,
            "left": null,
            "margin": null,
            "max_height": null,
            "max_width": null,
            "min_height": null,
            "min_width": null,
            "object_fit": null,
            "object_position": null,
            "order": null,
            "overflow": null,
            "overflow_x": null,
            "overflow_y": null,
            "padding": null,
            "right": null,
            "top": null,
            "visibility": null,
            "width": null
          }
        },
        "5f1affa71c2544138cbb9e37b73a860d": {
          "model_module": "@jupyter-widgets/controls",
          "model_module_version": "1.5.0",
          "model_name": "DescriptionStyleModel",
          "state": {
            "_model_module": "@jupyter-widgets/controls",
            "_model_module_version": "1.5.0",
            "_model_name": "DescriptionStyleModel",
            "_view_count": null,
            "_view_module": "@jupyter-widgets/base",
            "_view_module_version": "1.2.0",
            "_view_name": "StyleView",
            "description_width": ""
          }
        },
        "5f3a9a3e4f2e483cb33702997f18b78e": {
          "model_module": "@jupyter-widgets/base",
          "model_module_version": "1.2.0",
          "model_name": "LayoutModel",
          "state": {
            "_model_module": "@jupyter-widgets/base",
            "_model_module_version": "1.2.0",
            "_model_name": "LayoutModel",
            "_view_count": null,
            "_view_module": "@jupyter-widgets/base",
            "_view_module_version": "1.2.0",
            "_view_name": "LayoutView",
            "align_content": null,
            "align_items": null,
            "align_self": null,
            "border": null,
            "bottom": null,
            "display": null,
            "flex": null,
            "flex_flow": null,
            "grid_area": null,
            "grid_auto_columns": null,
            "grid_auto_flow": null,
            "grid_auto_rows": null,
            "grid_column": null,
            "grid_gap": null,
            "grid_row": null,
            "grid_template_areas": null,
            "grid_template_columns": null,
            "grid_template_rows": null,
            "height": null,
            "justify_content": null,
            "justify_items": null,
            "left": null,
            "margin": null,
            "max_height": null,
            "max_width": null,
            "min_height": null,
            "min_width": null,
            "object_fit": null,
            "object_position": null,
            "order": null,
            "overflow": null,
            "overflow_x": null,
            "overflow_y": null,
            "padding": null,
            "right": null,
            "top": null,
            "visibility": null,
            "width": null
          }
        },
        "63f3f0f590b24f41a44c9a7dc573795e": {
          "model_module": "@jupyter-widgets/base",
          "model_module_version": "1.2.0",
          "model_name": "LayoutModel",
          "state": {
            "_model_module": "@jupyter-widgets/base",
            "_model_module_version": "1.2.0",
            "_model_name": "LayoutModel",
            "_view_count": null,
            "_view_module": "@jupyter-widgets/base",
            "_view_module_version": "1.2.0",
            "_view_name": "LayoutView",
            "align_content": null,
            "align_items": null,
            "align_self": null,
            "border": null,
            "bottom": null,
            "display": null,
            "flex": null,
            "flex_flow": null,
            "grid_area": null,
            "grid_auto_columns": null,
            "grid_auto_flow": null,
            "grid_auto_rows": null,
            "grid_column": null,
            "grid_gap": null,
            "grid_row": null,
            "grid_template_areas": null,
            "grid_template_columns": null,
            "grid_template_rows": null,
            "height": null,
            "justify_content": null,
            "justify_items": null,
            "left": null,
            "margin": null,
            "max_height": null,
            "max_width": null,
            "min_height": null,
            "min_width": null,
            "object_fit": null,
            "object_position": null,
            "order": null,
            "overflow": null,
            "overflow_x": null,
            "overflow_y": null,
            "padding": null,
            "right": null,
            "top": null,
            "visibility": null,
            "width": null
          }
        },
        "65e9362772eb4894933b0434690503e3": {
          "model_module": "@jupyter-widgets/controls",
          "model_module_version": "1.5.0",
          "model_name": "HBoxModel",
          "state": {
            "_dom_classes": [],
            "_model_module": "@jupyter-widgets/controls",
            "_model_module_version": "1.5.0",
            "_model_name": "HBoxModel",
            "_view_count": null,
            "_view_module": "@jupyter-widgets/controls",
            "_view_module_version": "1.5.0",
            "_view_name": "HBoxView",
            "box_style": "",
            "children": [
              "IPY_MODEL_b06c1d66d4fb41bfba4f0c1f6b3afa6f",
              "IPY_MODEL_3babc4fc4988476a827d8a169887212c",
              "IPY_MODEL_ce3731306ad743808852f66f5f7750f2"
            ],
            "layout": "IPY_MODEL_ed76d7f43cea4ba88231f18adf8c72ce"
          }
        },
        "706ed1ae391f44599943881a1bb51a69": {
          "model_module": "@jupyter-widgets/controls",
          "model_module_version": "1.5.0",
          "model_name": "DescriptionStyleModel",
          "state": {
            "_model_module": "@jupyter-widgets/controls",
            "_model_module_version": "1.5.0",
            "_model_name": "DescriptionStyleModel",
            "_view_count": null,
            "_view_module": "@jupyter-widgets/base",
            "_view_module_version": "1.2.0",
            "_view_name": "StyleView",
            "description_width": ""
          }
        },
        "711eef6f536b43079b91347da31275b5": {
          "model_module": "@jupyter-widgets/base",
          "model_module_version": "1.2.0",
          "model_name": "LayoutModel",
          "state": {
            "_model_module": "@jupyter-widgets/base",
            "_model_module_version": "1.2.0",
            "_model_name": "LayoutModel",
            "_view_count": null,
            "_view_module": "@jupyter-widgets/base",
            "_view_module_version": "1.2.0",
            "_view_name": "LayoutView",
            "align_content": null,
            "align_items": null,
            "align_self": null,
            "border": null,
            "bottom": null,
            "display": null,
            "flex": null,
            "flex_flow": null,
            "grid_area": null,
            "grid_auto_columns": null,
            "grid_auto_flow": null,
            "grid_auto_rows": null,
            "grid_column": null,
            "grid_gap": null,
            "grid_row": null,
            "grid_template_areas": null,
            "grid_template_columns": null,
            "grid_template_rows": null,
            "height": null,
            "justify_content": null,
            "justify_items": null,
            "left": null,
            "margin": null,
            "max_height": null,
            "max_width": null,
            "min_height": null,
            "min_width": null,
            "object_fit": null,
            "object_position": null,
            "order": null,
            "overflow": null,
            "overflow_x": null,
            "overflow_y": null,
            "padding": null,
            "right": null,
            "top": null,
            "visibility": null,
            "width": "20px"
          }
        },
        "7a04c0ce3352438a94dbba66b21c28f2": {
          "model_module": "@jupyter-widgets/controls",
          "model_module_version": "1.5.0",
          "model_name": "DescriptionStyleModel",
          "state": {
            "_model_module": "@jupyter-widgets/controls",
            "_model_module_version": "1.5.0",
            "_model_name": "DescriptionStyleModel",
            "_view_count": null,
            "_view_module": "@jupyter-widgets/base",
            "_view_module_version": "1.2.0",
            "_view_name": "StyleView",
            "description_width": ""
          }
        },
        "7b8a109781cf41fe89faa419e28320eb": {
          "model_module": "@jupyter-widgets/controls",
          "model_module_version": "1.5.0",
          "model_name": "DescriptionStyleModel",
          "state": {
            "_model_module": "@jupyter-widgets/controls",
            "_model_module_version": "1.5.0",
            "_model_name": "DescriptionStyleModel",
            "_view_count": null,
            "_view_module": "@jupyter-widgets/base",
            "_view_module_version": "1.2.0",
            "_view_name": "StyleView",
            "description_width": ""
          }
        },
        "808caee7e2014fa0acbc9f1e9d08793c": {
          "model_module": "@jupyter-widgets/base",
          "model_module_version": "1.2.0",
          "model_name": "LayoutModel",
          "state": {
            "_model_module": "@jupyter-widgets/base",
            "_model_module_version": "1.2.0",
            "_model_name": "LayoutModel",
            "_view_count": null,
            "_view_module": "@jupyter-widgets/base",
            "_view_module_version": "1.2.0",
            "_view_name": "LayoutView",
            "align_content": null,
            "align_items": null,
            "align_self": null,
            "border": null,
            "bottom": null,
            "display": null,
            "flex": null,
            "flex_flow": null,
            "grid_area": null,
            "grid_auto_columns": null,
            "grid_auto_flow": null,
            "grid_auto_rows": null,
            "grid_column": null,
            "grid_gap": null,
            "grid_row": null,
            "grid_template_areas": null,
            "grid_template_columns": null,
            "grid_template_rows": null,
            "height": null,
            "justify_content": null,
            "justify_items": null,
            "left": null,
            "margin": null,
            "max_height": null,
            "max_width": null,
            "min_height": null,
            "min_width": null,
            "object_fit": null,
            "object_position": null,
            "order": null,
            "overflow": null,
            "overflow_x": null,
            "overflow_y": null,
            "padding": null,
            "right": null,
            "top": null,
            "visibility": null,
            "width": null
          }
        },
        "84f8dd38d9694b599b25b74727f4f5d6": {
          "model_module": "@jupyter-widgets/controls",
          "model_module_version": "1.5.0",
          "model_name": "HBoxModel",
          "state": {
            "_dom_classes": [],
            "_model_module": "@jupyter-widgets/controls",
            "_model_module_version": "1.5.0",
            "_model_name": "HBoxModel",
            "_view_count": null,
            "_view_module": "@jupyter-widgets/controls",
            "_view_module_version": "1.5.0",
            "_view_name": "HBoxView",
            "box_style": "",
            "children": [
              "IPY_MODEL_4a46cde9f26f474082296147441d345f",
              "IPY_MODEL_aaebf73806924f3984aced78b9c09245",
              "IPY_MODEL_4c3ccd07428c40a9838775d3ac195ddc"
            ],
            "layout": "IPY_MODEL_f623c47dc6d7478e9989cba8ceca3430"
          }
        },
        "895b341af8bc4b7698453a847cc7ebd3": {
          "model_module": "@jupyter-widgets/controls",
          "model_module_version": "1.5.0",
          "model_name": "DescriptionStyleModel",
          "state": {
            "_model_module": "@jupyter-widgets/controls",
            "_model_module_version": "1.5.0",
            "_model_name": "DescriptionStyleModel",
            "_view_count": null,
            "_view_module": "@jupyter-widgets/base",
            "_view_module_version": "1.2.0",
            "_view_name": "StyleView",
            "description_width": ""
          }
        },
        "8e00a8f0929e4e0487542dae976fefcf": {
          "model_module": "@jupyter-widgets/controls",
          "model_module_version": "1.5.0",
          "model_name": "DescriptionStyleModel",
          "state": {
            "_model_module": "@jupyter-widgets/controls",
            "_model_module_version": "1.5.0",
            "_model_name": "DescriptionStyleModel",
            "_view_count": null,
            "_view_module": "@jupyter-widgets/base",
            "_view_module_version": "1.2.0",
            "_view_name": "StyleView",
            "description_width": ""
          }
        },
        "9348f03dd5e347c6a55623a14eb993b6": {
          "model_module": "@jupyter-widgets/base",
          "model_module_version": "1.2.0",
          "model_name": "LayoutModel",
          "state": {
            "_model_module": "@jupyter-widgets/base",
            "_model_module_version": "1.2.0",
            "_model_name": "LayoutModel",
            "_view_count": null,
            "_view_module": "@jupyter-widgets/base",
            "_view_module_version": "1.2.0",
            "_view_name": "LayoutView",
            "align_content": null,
            "align_items": null,
            "align_self": null,
            "border": null,
            "bottom": null,
            "display": null,
            "flex": null,
            "flex_flow": null,
            "grid_area": null,
            "grid_auto_columns": null,
            "grid_auto_flow": null,
            "grid_auto_rows": null,
            "grid_column": null,
            "grid_gap": null,
            "grid_row": null,
            "grid_template_areas": null,
            "grid_template_columns": null,
            "grid_template_rows": null,
            "height": null,
            "justify_content": null,
            "justify_items": null,
            "left": null,
            "margin": null,
            "max_height": null,
            "max_width": null,
            "min_height": null,
            "min_width": null,
            "object_fit": null,
            "object_position": null,
            "order": null,
            "overflow": null,
            "overflow_x": null,
            "overflow_y": null,
            "padding": null,
            "right": null,
            "top": null,
            "visibility": "hidden",
            "width": null
          }
        },
        "95e5dd9bb94b4e80a17fe0b7453c9fe3": {
          "model_module": "@jupyter-widgets/base",
          "model_module_version": "1.2.0",
          "model_name": "LayoutModel",
          "state": {
            "_model_module": "@jupyter-widgets/base",
            "_model_module_version": "1.2.0",
            "_model_name": "LayoutModel",
            "_view_count": null,
            "_view_module": "@jupyter-widgets/base",
            "_view_module_version": "1.2.0",
            "_view_name": "LayoutView",
            "align_content": null,
            "align_items": null,
            "align_self": null,
            "border": null,
            "bottom": null,
            "display": null,
            "flex": null,
            "flex_flow": null,
            "grid_area": null,
            "grid_auto_columns": null,
            "grid_auto_flow": null,
            "grid_auto_rows": null,
            "grid_column": null,
            "grid_gap": null,
            "grid_row": null,
            "grid_template_areas": null,
            "grid_template_columns": null,
            "grid_template_rows": null,
            "height": null,
            "justify_content": null,
            "justify_items": null,
            "left": null,
            "margin": null,
            "max_height": null,
            "max_width": null,
            "min_height": null,
            "min_width": null,
            "object_fit": null,
            "object_position": null,
            "order": null,
            "overflow": null,
            "overflow_x": null,
            "overflow_y": null,
            "padding": null,
            "right": null,
            "top": null,
            "visibility": null,
            "width": null
          }
        },
        "aaebf73806924f3984aced78b9c09245": {
          "model_module": "@jupyter-widgets/controls",
          "model_module_version": "1.5.0",
          "model_name": "FloatProgressModel",
          "state": {
            "_dom_classes": [],
            "_model_module": "@jupyter-widgets/controls",
            "_model_module_version": "1.5.0",
            "_model_name": "FloatProgressModel",
            "_view_count": null,
            "_view_module": "@jupyter-widgets/controls",
            "_view_module_version": "1.5.0",
            "_view_name": "ProgressView",
            "bar_style": "",
            "description": "",
            "description_tooltip": null,
            "layout": "IPY_MODEL_63f3f0f590b24f41a44c9a7dc573795e",
            "max": 1,
            "min": 0,
            "orientation": "horizontal",
            "style": "IPY_MODEL_efebfe00940b40399ccac009f4671205",
            "value": 1
          }
        },
        "b06c1d66d4fb41bfba4f0c1f6b3afa6f": {
          "model_module": "@jupyter-widgets/controls",
          "model_module_version": "1.5.0",
          "model_name": "HTMLModel",
          "state": {
            "_dom_classes": [],
            "_model_module": "@jupyter-widgets/controls",
            "_model_module_version": "1.5.0",
            "_model_name": "HTMLModel",
            "_view_count": null,
            "_view_module": "@jupyter-widgets/controls",
            "_view_module_version": "1.5.0",
            "_view_name": "HTMLView",
            "description": "",
            "description_tooltip": null,
            "layout": "IPY_MODEL_bf8e1c0a7618418dbea7717f64c740ab",
            "placeholder": "​",
            "style": "IPY_MODEL_3ab4dfeba937489188fa71e729b59f4c",
            "value": "Generating train examples...:   0%"
          }
        },
        "bbaec30713224ae09e34ff5b17f5b66f": {
          "model_module": "@jupyter-widgets/controls",
          "model_module_version": "1.5.0",
          "model_name": "ProgressStyleModel",
          "state": {
            "_model_module": "@jupyter-widgets/controls",
            "_model_module_version": "1.5.0",
            "_model_name": "ProgressStyleModel",
            "_view_count": null,
            "_view_module": "@jupyter-widgets/base",
            "_view_module_version": "1.2.0",
            "_view_name": "StyleView",
            "bar_color": null,
            "description_width": ""
          }
        },
        "bcc8a94b447048e7b57df7b50d521102": {
          "model_module": "@jupyter-widgets/controls",
          "model_module_version": "1.5.0",
          "model_name": "FloatProgressModel",
          "state": {
            "_dom_classes": [],
            "_model_module": "@jupyter-widgets/controls",
            "_model_module_version": "1.5.0",
            "_model_name": "FloatProgressModel",
            "_view_count": null,
            "_view_module": "@jupyter-widgets/controls",
            "_view_module_version": "1.5.0",
            "_view_name": "ProgressView",
            "bar_style": "",
            "description": "",
            "description_tooltip": null,
            "layout": "IPY_MODEL_0f81e9dbdad34fba81039c9d234a437d",
            "max": 4898,
            "min": 0,
            "orientation": "horizontal",
            "style": "IPY_MODEL_be57f8dc160c4cd5812f68b9a8d5f089",
            "value": 4898
          }
        },
        "be57f8dc160c4cd5812f68b9a8d5f089": {
          "model_module": "@jupyter-widgets/controls",
          "model_module_version": "1.5.0",
          "model_name": "ProgressStyleModel",
          "state": {
            "_model_module": "@jupyter-widgets/controls",
            "_model_module_version": "1.5.0",
            "_model_name": "ProgressStyleModel",
            "_view_count": null,
            "_view_module": "@jupyter-widgets/base",
            "_view_module_version": "1.2.0",
            "_view_name": "StyleView",
            "bar_color": null,
            "description_width": ""
          }
        },
        "bf8e1c0a7618418dbea7717f64c740ab": {
          "model_module": "@jupyter-widgets/base",
          "model_module_version": "1.2.0",
          "model_name": "LayoutModel",
          "state": {
            "_model_module": "@jupyter-widgets/base",
            "_model_module_version": "1.2.0",
            "_model_name": "LayoutModel",
            "_view_count": null,
            "_view_module": "@jupyter-widgets/base",
            "_view_module_version": "1.2.0",
            "_view_name": "LayoutView",
            "align_content": null,
            "align_items": null,
            "align_self": null,
            "border": null,
            "bottom": null,
            "display": null,
            "flex": null,
            "flex_flow": null,
            "grid_area": null,
            "grid_auto_columns": null,
            "grid_auto_flow": null,
            "grid_auto_rows": null,
            "grid_column": null,
            "grid_gap": null,
            "grid_row": null,
            "grid_template_areas": null,
            "grid_template_columns": null,
            "grid_template_rows": null,
            "height": null,
            "justify_content": null,
            "justify_items": null,
            "left": null,
            "margin": null,
            "max_height": null,
            "max_width": null,
            "min_height": null,
            "min_width": null,
            "object_fit": null,
            "object_position": null,
            "order": null,
            "overflow": null,
            "overflow_x": null,
            "overflow_y": null,
            "padding": null,
            "right": null,
            "top": null,
            "visibility": null,
            "width": null
          }
        },
        "c379e535fdfa4043b4e0161f6d59c1fe": {
          "model_module": "@jupyter-widgets/controls",
          "model_module_version": "1.5.0",
          "model_name": "HTMLModel",
          "state": {
            "_dom_classes": [],
            "_model_module": "@jupyter-widgets/controls",
            "_model_module_version": "1.5.0",
            "_model_name": "HTMLModel",
            "_view_count": null,
            "_view_module": "@jupyter-widgets/controls",
            "_view_module_version": "1.5.0",
            "_view_name": "HTMLView",
            "description": "",
            "description_tooltip": null,
            "layout": "IPY_MODEL_e3680983ca0e4db58c5fca67a426d184",
            "placeholder": "​",
            "style": "IPY_MODEL_895b341af8bc4b7698453a847cc7ebd3",
            "value": " 0/4898 [00:00&lt;?, ? examples/s]"
          }
        },
        "c461c50a2a3c41819a57cef2bc0971d0": {
          "model_module": "@jupyter-widgets/base",
          "model_module_version": "1.2.0",
          "model_name": "LayoutModel",
          "state": {
            "_model_module": "@jupyter-widgets/base",
            "_model_module_version": "1.2.0",
            "_model_name": "LayoutModel",
            "_view_count": null,
            "_view_module": "@jupyter-widgets/base",
            "_view_module_version": "1.2.0",
            "_view_name": "LayoutView",
            "align_content": null,
            "align_items": null,
            "align_self": null,
            "border": null,
            "bottom": null,
            "display": null,
            "flex": null,
            "flex_flow": null,
            "grid_area": null,
            "grid_auto_columns": null,
            "grid_auto_flow": null,
            "grid_auto_rows": null,
            "grid_column": null,
            "grid_gap": null,
            "grid_row": null,
            "grid_template_areas": null,
            "grid_template_columns": null,
            "grid_template_rows": null,
            "height": null,
            "justify_content": null,
            "justify_items": null,
            "left": null,
            "margin": null,
            "max_height": null,
            "max_width": null,
            "min_height": null,
            "min_width": null,
            "object_fit": null,
            "object_position": null,
            "order": null,
            "overflow": null,
            "overflow_x": null,
            "overflow_y": null,
            "padding": null,
            "right": null,
            "top": null,
            "visibility": null,
            "width": null
          }
        },
        "c63fcc4daeae49f3a75ce63ad0313fed": {
          "model_module": "@jupyter-widgets/controls",
          "model_module_version": "1.5.0",
          "model_name": "HBoxModel",
          "state": {
            "_dom_classes": [],
            "_model_module": "@jupyter-widgets/controls",
            "_model_module_version": "1.5.0",
            "_model_name": "HBoxModel",
            "_view_count": null,
            "_view_module": "@jupyter-widgets/controls",
            "_view_module_version": "1.5.0",
            "_view_name": "HBoxView",
            "box_style": "",
            "children": [
              "IPY_MODEL_21de7c9557bd4fd6a2336d2771f3d227",
              "IPY_MODEL_bcc8a94b447048e7b57df7b50d521102",
              "IPY_MODEL_c379e535fdfa4043b4e0161f6d59c1fe"
            ],
            "layout": "IPY_MODEL_9348f03dd5e347c6a55623a14eb993b6"
          }
        },
        "c6faf2f344aa48fea3e5897a22a0060b": {
          "model_module": "@jupyter-widgets/base",
          "model_module_version": "1.2.0",
          "model_name": "LayoutModel",
          "state": {
            "_model_module": "@jupyter-widgets/base",
            "_model_module_version": "1.2.0",
            "_model_name": "LayoutModel",
            "_view_count": null,
            "_view_module": "@jupyter-widgets/base",
            "_view_module_version": "1.2.0",
            "_view_name": "LayoutView",
            "align_content": null,
            "align_items": null,
            "align_self": null,
            "border": null,
            "bottom": null,
            "display": null,
            "flex": null,
            "flex_flow": null,
            "grid_area": null,
            "grid_auto_columns": null,
            "grid_auto_flow": null,
            "grid_auto_rows": null,
            "grid_column": null,
            "grid_gap": null,
            "grid_row": null,
            "grid_template_areas": null,
            "grid_template_columns": null,
            "grid_template_rows": null,
            "height": null,
            "justify_content": null,
            "justify_items": null,
            "left": null,
            "margin": null,
            "max_height": null,
            "max_width": null,
            "min_height": null,
            "min_width": null,
            "object_fit": null,
            "object_position": null,
            "order": null,
            "overflow": null,
            "overflow_x": null,
            "overflow_y": null,
            "padding": null,
            "right": null,
            "top": null,
            "visibility": null,
            "width": "20px"
          }
        },
        "c9c29f401cd14c7e8c479f4ce7972fe4": {
          "model_module": "@jupyter-widgets/controls",
          "model_module_version": "1.5.0",
          "model_name": "HBoxModel",
          "state": {
            "_dom_classes": [],
            "_model_module": "@jupyter-widgets/controls",
            "_model_module_version": "1.5.0",
            "_model_name": "HBoxModel",
            "_view_count": null,
            "_view_module": "@jupyter-widgets/controls",
            "_view_module_version": "1.5.0",
            "_view_name": "HBoxView",
            "box_style": "",
            "children": [
              "IPY_MODEL_d5321c7b59f8408ebccb32b003fe5647",
              "IPY_MODEL_51770315efa24ea2b31b8a2feeb8061f",
              "IPY_MODEL_e24b7d17d2954aa49dcb666fc25f76b7"
            ],
            "layout": "IPY_MODEL_c461c50a2a3c41819a57cef2bc0971d0"
          }
        },
        "cc11668a21ce4caa83cf8d58a481a05c": {
          "model_module": "@jupyter-widgets/controls",
          "model_module_version": "1.5.0",
          "model_name": "ProgressStyleModel",
          "state": {
            "_model_module": "@jupyter-widgets/controls",
            "_model_module_version": "1.5.0",
            "_model_name": "ProgressStyleModel",
            "_view_count": null,
            "_view_module": "@jupyter-widgets/base",
            "_view_module_version": "1.2.0",
            "_view_name": "StyleView",
            "bar_color": null,
            "description_width": ""
          }
        },
        "ce3731306ad743808852f66f5f7750f2": {
          "model_module": "@jupyter-widgets/controls",
          "model_module_version": "1.5.0",
          "model_name": "HTMLModel",
          "state": {
            "_dom_classes": [],
            "_model_module": "@jupyter-widgets/controls",
            "_model_module_version": "1.5.0",
            "_model_name": "HTMLModel",
            "_view_count": null,
            "_view_module": "@jupyter-widgets/controls",
            "_view_module_version": "1.5.0",
            "_view_name": "HTMLView",
            "description": "",
            "description_tooltip": null,
            "layout": "IPY_MODEL_2d965bc5331a472bad011e1bf511c94c",
            "placeholder": "​",
            "style": "IPY_MODEL_706ed1ae391f44599943881a1bb51a69",
            "value": " 0/4898 [00:00&lt;?, ? examples/s]"
          }
        },
        "d5321c7b59f8408ebccb32b003fe5647": {
          "model_module": "@jupyter-widgets/controls",
          "model_module_version": "1.5.0",
          "model_name": "HTMLModel",
          "state": {
            "_dom_classes": [],
            "_model_module": "@jupyter-widgets/controls",
            "_model_module_version": "1.5.0",
            "_model_name": "HTMLModel",
            "_view_count": null,
            "_view_module": "@jupyter-widgets/controls",
            "_view_module_version": "1.5.0",
            "_view_name": "HTMLView",
            "description": "",
            "description_tooltip": null,
            "layout": "IPY_MODEL_5c4ad7bd5fea44799430d46f59e88226",
            "placeholder": "​",
            "style": "IPY_MODEL_1ef246b983f3475fb41ca1bf00499175",
            "value": "Dl Size...: "
          }
        },
        "e24b7d17d2954aa49dcb666fc25f76b7": {
          "model_module": "@jupyter-widgets/controls",
          "model_module_version": "1.5.0",
          "model_name": "HTMLModel",
          "state": {
            "_dom_classes": [],
            "_model_module": "@jupyter-widgets/controls",
            "_model_module_version": "1.5.0",
            "_model_name": "HTMLModel",
            "_view_count": null,
            "_view_module": "@jupyter-widgets/controls",
            "_view_module_version": "1.5.0",
            "_view_name": "HTMLView",
            "description": "",
            "description_tooltip": null,
            "layout": "IPY_MODEL_fead9177659f4ed9ae86765d34400792",
            "placeholder": "​",
            "style": "IPY_MODEL_5ba86c686ed2435a93db9b07f0354d2a",
            "value": " 0/0 [00:00&lt;?, ? MiB/s]"
          }
        },
        "e3680983ca0e4db58c5fca67a426d184": {
          "model_module": "@jupyter-widgets/base",
          "model_module_version": "1.2.0",
          "model_name": "LayoutModel",
          "state": {
            "_model_module": "@jupyter-widgets/base",
            "_model_module_version": "1.2.0",
            "_model_name": "LayoutModel",
            "_view_count": null,
            "_view_module": "@jupyter-widgets/base",
            "_view_module_version": "1.2.0",
            "_view_name": "LayoutView",
            "align_content": null,
            "align_items": null,
            "align_self": null,
            "border": null,
            "bottom": null,
            "display": null,
            "flex": null,
            "flex_flow": null,
            "grid_area": null,
            "grid_auto_columns": null,
            "grid_auto_flow": null,
            "grid_auto_rows": null,
            "grid_column": null,
            "grid_gap": null,
            "grid_row": null,
            "grid_template_areas": null,
            "grid_template_columns": null,
            "grid_template_rows": null,
            "height": null,
            "justify_content": null,
            "justify_items": null,
            "left": null,
            "margin": null,
            "max_height": null,
            "max_width": null,
            "min_height": null,
            "min_width": null,
            "object_fit": null,
            "object_position": null,
            "order": null,
            "overflow": null,
            "overflow_x": null,
            "overflow_y": null,
            "padding": null,
            "right": null,
            "top": null,
            "visibility": null,
            "width": null
          }
        },
        "e9bdbbb5d4ff4651b9ef19a6ea98e754": {
          "model_module": "@jupyter-widgets/controls",
          "model_module_version": "1.5.0",
          "model_name": "HTMLModel",
          "state": {
            "_dom_classes": [],
            "_model_module": "@jupyter-widgets/controls",
            "_model_module_version": "1.5.0",
            "_model_name": "HTMLModel",
            "_view_count": null,
            "_view_module": "@jupyter-widgets/controls",
            "_view_module_version": "1.5.0",
            "_view_name": "HTMLView",
            "description": "",
            "description_tooltip": null,
            "layout": "IPY_MODEL_14a2cb67141849fb95487a026ba71cc1",
            "placeholder": "​",
            "style": "IPY_MODEL_5f1affa71c2544138cbb9e37b73a860d",
            "value": "Dl Completed...: 100%"
          }
        },
        "ed76d7f43cea4ba88231f18adf8c72ce": {
          "model_module": "@jupyter-widgets/base",
          "model_module_version": "1.2.0",
          "model_name": "LayoutModel",
          "state": {
            "_model_module": "@jupyter-widgets/base",
            "_model_module_version": "1.2.0",
            "_model_name": "LayoutModel",
            "_view_count": null,
            "_view_module": "@jupyter-widgets/base",
            "_view_module_version": "1.2.0",
            "_view_name": "LayoutView",
            "align_content": null,
            "align_items": null,
            "align_self": null,
            "border": null,
            "bottom": null,
            "display": null,
            "flex": null,
            "flex_flow": null,
            "grid_area": null,
            "grid_auto_columns": null,
            "grid_auto_flow": null,
            "grid_auto_rows": null,
            "grid_column": null,
            "grid_gap": null,
            "grid_row": null,
            "grid_template_areas": null,
            "grid_template_columns": null,
            "grid_template_rows": null,
            "height": null,
            "justify_content": null,
            "justify_items": null,
            "left": null,
            "margin": null,
            "max_height": null,
            "max_width": null,
            "min_height": null,
            "min_width": null,
            "object_fit": null,
            "object_position": null,
            "order": null,
            "overflow": null,
            "overflow_x": null,
            "overflow_y": null,
            "padding": null,
            "right": null,
            "top": null,
            "visibility": "hidden",
            "width": null
          }
        },
        "ee78f48d0a784028acfe810075992f8c": {
          "model_module": "@jupyter-widgets/base",
          "model_module_version": "1.2.0",
          "model_name": "LayoutModel",
          "state": {
            "_model_module": "@jupyter-widgets/base",
            "_model_module_version": "1.2.0",
            "_model_name": "LayoutModel",
            "_view_count": null,
            "_view_module": "@jupyter-widgets/base",
            "_view_module_version": "1.2.0",
            "_view_name": "LayoutView",
            "align_content": null,
            "align_items": null,
            "align_self": null,
            "border": null,
            "bottom": null,
            "display": null,
            "flex": null,
            "flex_flow": null,
            "grid_area": null,
            "grid_auto_columns": null,
            "grid_auto_flow": null,
            "grid_auto_rows": null,
            "grid_column": null,
            "grid_gap": null,
            "grid_row": null,
            "grid_template_areas": null,
            "grid_template_columns": null,
            "grid_template_rows": null,
            "height": null,
            "justify_content": null,
            "justify_items": null,
            "left": null,
            "margin": null,
            "max_height": null,
            "max_width": null,
            "min_height": null,
            "min_width": null,
            "object_fit": null,
            "object_position": null,
            "order": null,
            "overflow": null,
            "overflow_x": null,
            "overflow_y": null,
            "padding": null,
            "right": null,
            "top": null,
            "visibility": null,
            "width": null
          }
        },
        "efebfe00940b40399ccac009f4671205": {
          "model_module": "@jupyter-widgets/controls",
          "model_module_version": "1.5.0",
          "model_name": "ProgressStyleModel",
          "state": {
            "_model_module": "@jupyter-widgets/controls",
            "_model_module_version": "1.5.0",
            "_model_name": "ProgressStyleModel",
            "_view_count": null,
            "_view_module": "@jupyter-widgets/base",
            "_view_module_version": "1.2.0",
            "_view_name": "StyleView",
            "bar_color": null,
            "description_width": ""
          }
        },
        "f623c47dc6d7478e9989cba8ceca3430": {
          "model_module": "@jupyter-widgets/base",
          "model_module_version": "1.2.0",
          "model_name": "LayoutModel",
          "state": {
            "_model_module": "@jupyter-widgets/base",
            "_model_module_version": "1.2.0",
            "_model_name": "LayoutModel",
            "_view_count": null,
            "_view_module": "@jupyter-widgets/base",
            "_view_module_version": "1.2.0",
            "_view_name": "LayoutView",
            "align_content": null,
            "align_items": null,
            "align_self": null,
            "border": null,
            "bottom": null,
            "display": null,
            "flex": null,
            "flex_flow": null,
            "grid_area": null,
            "grid_auto_columns": null,
            "grid_auto_flow": null,
            "grid_auto_rows": null,
            "grid_column": null,
            "grid_gap": null,
            "grid_row": null,
            "grid_template_areas": null,
            "grid_template_columns": null,
            "grid_template_rows": null,
            "height": null,
            "justify_content": null,
            "justify_items": null,
            "left": null,
            "margin": null,
            "max_height": null,
            "max_width": null,
            "min_height": null,
            "min_width": null,
            "object_fit": null,
            "object_position": null,
            "order": null,
            "overflow": null,
            "overflow_x": null,
            "overflow_y": null,
            "padding": null,
            "right": null,
            "top": null,
            "visibility": "hidden",
            "width": null
          }
        },
        "fead9177659f4ed9ae86765d34400792": {
          "model_module": "@jupyter-widgets/base",
          "model_module_version": "1.2.0",
          "model_name": "LayoutModel",
          "state": {
            "_model_module": "@jupyter-widgets/base",
            "_model_module_version": "1.2.0",
            "_model_name": "LayoutModel",
            "_view_count": null,
            "_view_module": "@jupyter-widgets/base",
            "_view_module_version": "1.2.0",
            "_view_name": "LayoutView",
            "align_content": null,
            "align_items": null,
            "align_self": null,
            "border": null,
            "bottom": null,
            "display": null,
            "flex": null,
            "flex_flow": null,
            "grid_area": null,
            "grid_auto_columns": null,
            "grid_auto_flow": null,
            "grid_auto_rows": null,
            "grid_column": null,
            "grid_gap": null,
            "grid_row": null,
            "grid_template_areas": null,
            "grid_template_columns": null,
            "grid_template_rows": null,
            "height": null,
            "justify_content": null,
            "justify_items": null,
            "left": null,
            "margin": null,
            "max_height": null,
            "max_width": null,
            "min_height": null,
            "min_width": null,
            "object_fit": null,
            "object_position": null,
            "order": null,
            "overflow": null,
            "overflow_x": null,
            "overflow_y": null,
            "padding": null,
            "right": null,
            "top": null,
            "visibility": null,
            "width": null
          }
        }
      }
    }
  },
  "nbformat": 4,
  "nbformat_minor": 0
}
