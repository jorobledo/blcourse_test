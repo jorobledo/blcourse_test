{
  "cells": [
    {
      "cell_type": "markdown",
      "metadata": {
        "id": "view-in-github",
        "colab_type": "text"
      },
      "source": [
        "<a href=\"https://colab.research.google.com/github/jorobledo/bayesian_learning_course/blob/main/BLcourse3/colab/svb_biexp_tf2.ipynb\" target=\"_parent\"><img src=\"https://colab.research.google.com/assets/colab-badge.svg\" alt=\"Open In Colab\"/></a>"
      ]
    },
    {
      "cell_type": "code",
      "execution_count": 1,
      "metadata": {
        "colab": {
          "base_uri": "https://localhost:8080/"
        },
        "id": "nflgKAoByxBm",
        "outputId": "b3594d73-bca6-414f-97e3-c48527a382b4"
      },
      "outputs": [
        {
          "output_type": "stream",
          "name": "stdout",
          "text": [
            "Cloning into 'bayesian_learning_course'...\n",
            "remote: Enumerating objects: 771, done.\u001b[K\n",
            "remote: Counting objects: 100% (85/85), done.\u001b[K\n",
            "remote: Compressing objects: 100% (75/75), done.\u001b[K\n",
            "remote: Total 771 (delta 26), reused 16 (delta 5), pack-reused 686 (from 2)\u001b[K\n",
            "Receiving objects: 100% (771/771), 169.49 MiB | 9.61 MiB/s, done.\n",
            "Resolving deltas: 100% (234/234), done.\n",
            "Updating files: 100% (52/52), done.\n",
            "/content/bayesian_learning_course/BLcourse2/colab\n"
          ]
        }
      ],
      "source": [
        "# Initialize Colab\n",
        "!git clone https://github.com/jorobledo/bayesian_learning_course.git\n",
        "%cd bayesian_learning_course/BLcourse2/colab/"
      ]
    },
    {
      "cell_type": "markdown",
      "metadata": {
        "id": "i9hNtl_QyvtQ"
      },
      "source": [
        "Stochastic Variational Bayes - example nonlinear model\n",
        "==============================================\n",
        "\n",
        "This notebook implements stochastic variational Bayes for a nonlinear model. The model we will use is a bi-exponential model, i.e. we will assume our data reflects a time-dependent signal of the following form:\n",
        "\n",
        "$$S_{true}(t) = A_1 e^{-R_1t} + A_2 e^{-R_2t}$$\n",
        "\n",
        "However the actual time dependent signal $S(t)$ will be affected by additive Gaussian noise, so will have the distribution:\n",
        "\n",
        "$$P(S(t)) = \\frac{\\sqrt{\\beta}}{\\sqrt{2\\pi}} \\exp{\\bigg(-\\frac{\\beta}{2} (S(t) - S_{true}(t))^2}\\bigg)$$\n",
        "\n",
        "Given $S(t)$ our aim will be to infer the values of $A_1$, $A_2$, $R_1$, $R_2$ and $\\beta$.\n",
        "\n",
        "Here's how we can generate some sample data from this model in Python:"
      ]
    },
    {
      "cell_type": "code",
      "execution_count": 2,
      "metadata": {
        "colab": {
          "base_uri": "https://localhost:8080/"
        },
        "id": "VcOULI1pyvtT",
        "outputId": "2d9f5d26-e30d-401b-faab-7078130658ce",
        "tags": []
      },
      "outputs": [
        {
          "output_type": "stream",
          "name": "stdout",
          "text": [
            "Data samples are:\n",
            "[ 2.10103768e+01  1.82017187e+01  1.40403891e+01  1.48561380e+01\n",
            "  1.24860540e+01  1.21935719e+01  1.01846396e+01  1.05478681e+01\n",
            "  8.99248682e+00  8.61534088e+00  9.49554384e+00  8.09263745e+00\n",
            "  7.79828625e+00  7.08632194e+00  8.17113494e+00  7.40658212e+00\n",
            "  5.53876216e+00  7.31816666e+00  5.84324719e+00  7.18389638e+00\n",
            "  5.97225791e+00  8.07702452e+00  5.69157988e+00  5.62615383e+00\n",
            "  6.14718405e+00  6.72742914e+00  6.70919504e+00  3.90904797e+00\n",
            "  3.73491105e+00  5.84604985e+00  4.72739847e+00  5.38293580e+00\n",
            "  2.92576572e+00  5.09137790e+00  4.46970450e+00  4.74096602e+00\n",
            "  4.14312544e+00  5.11370054e+00  2.29766327e+00  3.31950561e+00\n",
            "  3.42372962e+00  5.25697171e+00  1.76538070e+00  2.88484729e+00\n",
            "  3.11521340e+00  5.67586800e+00  4.45102316e+00  2.86859585e+00\n",
            "  5.61108606e+00  4.42482302e+00  4.02469781e+00  3.50203382e+00\n",
            "  1.24802435e+00  1.34477758e+00  2.39170861e+00  3.86831245e+00\n",
            "  1.83280558e+00  2.52349078e+00  4.22869995e+00  3.40454093e+00\n",
            "  3.65670750e+00  3.52510051e+00  2.52674908e+00  3.15345086e-03\n",
            "  2.14569785e+00  1.69284183e+00  2.25811530e-01  8.36513495e-01\n",
            "  1.20352230e+00  2.13666753e+00  1.76591961e+00  1.66686182e+00\n",
            "  1.32180913e+00  1.12437795e+00  2.21626141e+00  1.85435121e+00\n",
            "  8.28460855e-01  1.88440637e+00  2.21726153e+00  1.17577383e-01\n",
            "  7.87218151e-01  1.27508960e+00  4.72656402e-02  4.59400795e-01\n",
            "  3.82593846e-01  2.17517736e+00 -3.54606623e-01  3.09838796e+00\n",
            "  7.77621242e-01  2.14211159e+00  3.50553191e-01  1.24436370e+00\n",
            "  1.59556147e+00 -1.08972998e+00  2.11807026e+00  2.55335677e+00\n",
            "  1.70084676e+00 -2.90277158e-01  7.11540507e-01  1.48738073e+00\n",
            "  7.02409132e-01  1.58604571e+00  2.63591596e+00  1.16809698e+00\n",
            "  2.79414888e+00  1.64198642e+00  4.63749193e-01 -4.19147378e-01\n",
            "  1.83405931e+00  1.60640372e+00  8.19234839e-01  5.11097027e-02\n",
            " -1.69647548e+00  1.34779936e+00 -6.29350620e-01  1.36777356e+00\n",
            "  6.33276054e-01  1.53094243e+00 -1.55099454e+00  1.49406642e+00\n",
            "  2.22787861e-03  1.05832754e+00  7.88114492e-01  2.44293807e-01\n",
            " -6.47590466e-01  7.07032853e-01  5.27430916e-01 -7.57997009e-01\n",
            " -4.82514991e-01  1.73462490e+00  1.45480627e-02  9.17951746e-01\n",
            "  1.54187497e+00  8.35760156e-01  1.07070947e+00  6.21322345e-01\n",
            " -5.62307426e-01 -4.80486609e-01 -1.78258178e-01  1.83315385e-01\n",
            " -8.27214251e-01  6.07569478e-01  3.95301936e-02  1.92625556e-01\n",
            "  1.16191299e-02  5.05150949e-02  6.59458311e-01  1.17516597e+00\n",
            " -1.14172420e-01  3.62318938e-01 -1.59395496e+00 -5.31847468e-01\n",
            " -2.10346149e-01  9.23415116e-01 -1.02556927e+00  8.32121439e-01\n",
            " -6.38972854e-02 -1.86438016e-01 -9.46003933e-02 -4.18694953e-01\n",
            " -1.25319609e-01  1.94589737e-01 -2.43441464e-01  2.70569029e-01\n",
            "  4.78507369e-01  1.17074700e+00 -9.65523399e-01  1.69694349e+00\n",
            "  1.33983456e+00  5.94006380e-02  6.62299688e-02 -1.10687367e+00\n",
            " -8.98110844e-02 -3.46903188e-01  9.29259050e-01  2.78646804e-02\n",
            "  6.60540622e-01  1.87718431e+00 -5.88569434e-01  7.01883439e-01\n",
            "  1.37447122e+00  4.35515940e-01  1.37334787e+00 -7.39109307e-01\n",
            " -1.65496762e+00 -4.05872979e-01  5.22371922e-01 -1.62168870e-01\n",
            "  3.60048987e-01  2.01678495e-01  3.66511221e-01  1.70983564e+00\n",
            "  8.03249144e-02  6.84039798e-01  1.44311836e-01 -9.04336092e-01\n",
            " -5.00503029e-01 -9.69832222e-01  3.08603454e-01 -3.69893271e-02]\n"
          ]
        }
      ],
      "source": [
        "import numpy as np\n",
        "%matplotlib inline\n",
        "# Ground truth parameters\n",
        "# We infer the precision, BETA, but it is useful to\n",
        "# derive the variance and standard deviation from it\n",
        "A1_TRUTH = 10.0\n",
        "A2_TRUTH = 10.0\n",
        "R1_TRUTH = 10.0\n",
        "R2_TRUTH = 1.0\n",
        "BETA_TRUTH = 1.0\n",
        "VAR_TRUTH = 1/BETA_TRUTH\n",
        "STD_TRUTH = np.sqrt(VAR_TRUTH)\n",
        "\n",
        "# Observed data samples are generated by Numpy from the ground truth\n",
        "# Gaussian distribution. Reducing the number of samples should make\n",
        "# the inference less 'confident' - i.e. the output variances for\n",
        "# MU and BETA will increase\n",
        "N = 200\n",
        "T = np.linspace(0, 5, N)\n",
        "\n",
        "\n",
        "DATA_CLEAN = A1_TRUTH * np.exp(-R1_TRUTH * T) + A2_TRUTH * np.exp(-R2_TRUTH*T)\n",
        "DATA = DATA_CLEAN + np.random.normal(0, STD_TRUTH, [N])\n",
        "print(\"Data samples are:\")\n",
        "print(DATA)"
      ]
    },
    {
      "cell_type": "markdown",
      "metadata": {
        "id": "sG_cFBZPyvtU"
      },
      "source": [
        "We can plot this data to illustrate the true signal (green line) and the measured data (red crosses):"
      ]
    },
    {
      "cell_type": "code",
      "execution_count": 3,
      "metadata": {
        "colab": {
          "base_uri": "https://localhost:8080/",
          "height": 449
        },
        "id": "pz_Pb1VZyvtU",
        "outputId": "3c9aeb6a-cc0f-424e-d750-9e957ae2c1f4",
        "tags": []
      },
      "outputs": [
        {
          "output_type": "execute_result",
          "data": {
            "text/plain": [
              "[<matplotlib.lines.Line2D at 0x7d33a0c5ab10>]"
            ]
          },
          "metadata": {},
          "execution_count": 3
        },
        {
          "output_type": "display_data",
          "data": {
            "text/plain": [
              "<Figure size 640x480 with 1 Axes>"
            ],
            "image/png": "[encoded data removed]"
          },
          "metadata": {}
        }
      ],
      "source": [
        "from matplotlib import pyplot as plt\n",
        "plt.figure()\n",
        "plt.plot(DATA, \"rx\")\n",
        "plt.plot(DATA_CLEAN, \"g\")"
      ]
    },
    {
      "cell_type": "markdown",
      "metadata": {
        "id": "NoaTVEyGyvtV"
      },
      "source": [
        "As with the single Gaussian example we will use a multivariate normal distribution as our prior and approximate posterior distributions.\n",
        "\n",
        "One difference here is that we will choose to infer the log of the decay rate parameters $R_1$ and $R_2$. This is because if these parameters are allowed to become negative the model prediction will become an exponential growth and can easily lead to numerical errors.\n",
        "\n",
        "We will still choose our priors to be relatively uninformative as follows:\n"
      ]
    },
    {
      "cell_type": "code",
      "execution_count": 4,
      "metadata": {
        "colab": {
          "base_uri": "https://localhost:8080/"
        },
        "id": "Gk26Mws4yvtV",
        "outputId": "6fbd68b7-537a-4bd6-d6d0-a24918c9d21e",
        "tags": []
      },
      "outputs": [
        {
          "output_type": "stream",
          "name": "stdout",
          "text": [
            "Priors: Amplitude mean=1.000000, variance=100000.000000\n",
            "        Log decay rate mean=0.000000, variance=10.000000\n",
            "        Log noise variance mean=0.000000, variance=10.000000\n"
          ]
        }
      ],
      "source": [
        "a0 = 1.0\n",
        "v0 = 100000.0\n",
        "r0 = 0.0\n",
        "u0 = 10.0\n",
        "b0 = 0.0\n",
        "w0 = 10.0\n",
        "print(\"Priors: Amplitude mean=%f, variance=%f\" % (a0, v0))\n",
        "print(\"        Log decay rate mean=%f, variance=%f\" % (r0, u0))\n",
        "print(\"        Log noise variance mean=%f, variance=%f\" % (b0, w0))"
      ]
    },
    {
      "cell_type": "markdown",
      "metadata": {
        "id": "4PSvPhOmyvtV"
      },
      "source": [
        "The posterior will be defined in the same way as for the single Gaussian example, however we need to account for the increased number of parameters we are inferring. We will initialize the posterior with the prior values but with reduced initial variance to prevent problems with generating a representative posterior sample. Remember that the decay rates (and the noise) are being inferred as their log-values so the prior mean of 0 translates into a value of 1.\n",
        "\n",
        "The code to generate a posterior sample is unchanged except for the number of parameters.\n",
        "\n",
        "In calculating the reconstruction cost we need to calculate the log likelihood of the data given a set of model parameters. We do this by observing that any difference between the biexponential model prediction (given these parameters) and the actual noisy data must be a result of the Gaussian noise - hence the likelihood is simply the likelihood of drawing these differences from the Gaussian noise distribution:\n",
        "\n",
        "$$\\log P(\\textbf{y} | A_1; A_2; r_1; r_2; \\beta) = \\frac{1}{2} \\bigg( N \\log \\beta - \\sum{\\frac{(y_n - M_n)^2}{\\beta}}\\bigg)$$\n",
        "\n",
        "Here $M_n$ is the model prediction for the nth data point which is calculated by evaluating the biexponential model for the given parameters $A_1$, $A_2$, $r_1$ and $r_2$.\n",
        "\n",
        "For the latent loss we will again use the analytic expression for the K-L divergence of two MVN distributions with a slight modification to the previous code to account for the different number of parameters (5 vs 2)"
      ]
    },
    {
      "cell_type": "code",
      "execution_count": 5,
      "metadata": {
        "id": "DVnG78ADyvtV",
        "tags": []
      },
      "outputs": [],
      "source": [
        "import tensorflow as tf\n",
        "\n",
        "# Number of parameters - 4 for the biexponential + noise\n",
        "NUM_PARAMS = 4 + 1\n",
        "\n",
        "data = tf.constant(DATA, dtype=tf.float32)\n",
        "prior_means = tf.constant([a0, r0, a0, r0, b0], dtype=tf.float32)\n",
        "prior_covariance = tf.linalg.diag(tf.constant([v0, u0, v0, u0, w0], dtype=tf.float32))\n",
        "\n",
        "post_means_init = prior_means\n",
        "post_covariance_init = np.identity(NUM_PARAMS, dtype=np.float32)\n",
        "\n",
        "chol_off_diag = tf.Variable(np.zeros(post_covariance_init.shape), dtype=tf.float32)\n",
        "# Comment in this line if you do NOT want to infer parameter covariances\n",
        "#chol_off_diag = tf.constant([[0, 0], [0, 0]], dtype=tf.float32)\n",
        "chol_log_diag = tf.Variable(tf.math.log(tf.linalg.diag_part(post_covariance_init)), dtype=tf.float32)\n",
        "\n",
        "post_means = tf.Variable(post_means_init, dtype=tf.float32)\n",
        "\n",
        "t = tf.reshape(tf.constant(T, dtype=tf.float32), [1, -1])\n",
        "\n",
        "\n",
        "\n",
        "def cost_fun():\n",
        "\n",
        "    chol_diag = tf.linalg.diag(tf.math.sqrt(tf.math.exp(chol_log_diag)))\n",
        "    post_covariance_chol = tf.math.add(chol_diag, tf.linalg.band_part(chol_off_diag, -1, 0))\n",
        "\n",
        "    post_covariance = tf.matmul(tf.transpose(post_covariance_chol), post_covariance_chol)\n",
        "\n",
        "    S=5\n",
        "    N=200\n",
        "\n",
        "# eps is a sample from a Gaussian with mean 0 and variance 1\n",
        "    eps = tf.random.normal((NUM_PARAMS, S), 0, 1, dtype=tf.float32)\n",
        "\n",
        "# Start off each sample with the current posterior mean\n",
        "# post_samples is now a tensor of shape [NUM_PARAMS, n_samples]\n",
        "    samples = tf.tile(tf.reshape(post_means, [NUM_PARAMS, 1]), [1, S])\n",
        "\n",
        "# Now add the random sample scaled by the covariance\n",
        "    post_samples = tf.add(samples, tf.matmul(post_covariance_chol, eps))\n",
        "\n",
        "    a1 = tf.reshape(post_samples[0], [-1, 1])\n",
        "    r1 = tf.math.exp(tf.reshape(post_samples[1], [-1, 1]))\n",
        "    a2 = tf.reshape(post_samples[2], [-1, 1])\n",
        "    r2 = tf.math.exp(tf.reshape(post_samples[3], [-1, 1]))\n",
        "\n",
        "# Get the current estimate of the noise variance remembering that\n",
        "# we are inferring the log of the noise precision, beta\n",
        "    log_noise_var = -post_samples[4]\n",
        "    noise_var = tf.math.exp(log_noise_var)\n",
        "\n",
        "# Each sample value predicts the full set of values in the data sample.\n",
        "# For our constant-signal model, the prediction is simply a set of\n",
        "# constant values. The prediction tensor will have shape [S, N]\n",
        "# where S is the sample size and N is the number of data values\n",
        "\n",
        "\n",
        "    prediction = a1*tf.math.exp(-r1*t) + a2*tf.exp(-r2*t)\n",
        "    diff = tf.reshape(data, [1, -1]) - prediction\n",
        "\n",
        "# To calculate the likelihood we need the sum of the squared difference between the data\n",
        "# and the prediction. This gives a value for each posterior sample so has shape [S]\n",
        "    sum_square_diff = tf.reduce_sum(tf.math.square(diff), axis=1)\n",
        "\n",
        "# Now we calculate the likelihood for each posterior sample (shape [S])\n",
        "# Note that we are ignoring constant factors such as 2*PI here as they\n",
        "# are just an fixed offset and do not affect the optimization\n",
        "    log_likelihood = 0.5 * (-log_noise_var * tf.cast(N,dtype=tf.float32) - sum_square_diff / noise_var)\n",
        "\n",
        "# Finally to evaluate the expectation value we take the mean across all the posterior\n",
        "# samples. The negative of this is the reconstruction loss\n",
        "    reconstr_loss = -tf.reduce_mean(log_likelihood)\n",
        "\n",
        "    C = post_covariance\n",
        "    C0 = prior_covariance\n",
        "    #print(\"is this the problem? 1\")\n",
        "    #print(tf.linalg.det(C0))\n",
        "    C0_inv = tf.linalg.inv(C0)\n",
        "    #print(\"is this the problem? 2\")\n",
        "\n",
        "# m - m0 as row and column vectors\n",
        "    m_minus_m0 = tf.reshape(tf.subtract(post_means, prior_means), [-1, 1])\n",
        "    m_minus_m0_T = tf.reshape(tf.subtract(post_means, prior_means), [1, -1])\n",
        "\n",
        "    term1 = tf.linalg.trace(tf.matmul(C0_inv, C))\n",
        "    term2 = -tf.math.log(tf.linalg.det(C) / tf.linalg.det(C0))\n",
        "\n",
        "# Size of the MVN distribution\n",
        "    term3 = -NUM_PARAMS\n",
        "    term4 = tf.matmul(tf.matmul(m_minus_m0_T, C0_inv), m_minus_m0)\n",
        "\n",
        "    latent_loss = 0.5 * (term1 + term2 + term3 + term4)\n",
        "\n",
        "    #cost = reconstr_loss + latent_loss\n",
        "    cost=reconstr_loss\n",
        "\n",
        "    return cost\n",
        "\n",
        "\n"
      ]
    },
    {
      "cell_type": "markdown",
      "metadata": {
        "id": "RskytohsyvtW"
      },
      "source": [
        "Finally we ask TensorFlow to minimise the total cost iteratively:"
      ]
    },
    {
      "cell_type": "markdown",
      "metadata": {
        "id": "KD-fjgOO0j_s"
      },
      "source": [
        "\n",
        "\n",
        "1. tf.GradientTape: We use tf.GradientTape to record the operations and calculate the gradients of the cost function with respect to the variables (chol_off_diag, chol_log_diag, post_means).\n",
        "2. tape.gradient: This function calculates the gradients.\n",
        "3. optimizer.apply_gradients: This method updates the variables based on the calculated gradients and the optimizer's logic.\n",
        "\n"
      ]
    },
    {
      "cell_type": "code",
      "execution_count": 6,
      "metadata": {
        "colab": {
          "base_uri": "https://localhost:8080/",
          "height": 49,
          "referenced_widgets": [
            "6382a65afbb7433fabd07fe8ecb104ba",
            "241f15d80952409aa01a488e8b099967",
            "a67cc64736a34a2ca5d915ac5ac1e2bd",
            "12616654b36441589f7dab356b90de84",
            "6960eaf14d8c4c13b51dea6dced80546",
            "faa4b99cecb34ddabdc049895c5ecfb5",
            "dbe1231dd03a46068cb05fee8bfa22c0",
            "fc6099216ff74e6fa333c40441ecae5a",
            "30da06616fe24ebc938d9112d25591f9",
            "8dfc296f2d684acc9596bfb2440f9686",
            "5a69de6f188f4059b60c600b68637c20"
          ]
        },
        "id": "wEc26YEzyvtW",
        "outputId": "99a68172-8395-4be1-dd17-4f3b0863e7cb",
        "tags": []
      },
      "outputs": [
        {
          "output_type": "display_data",
          "data": {
            "text/plain": [
              "Epoch::   0%|          | 0/5000 [00:00<?, ?it/s]"
            ],
            "application/vnd.jupyter.widget-view+json": {
              "version_major": 2,
              "version_minor": 0,
              "model_id": "6382a65afbb7433fabd07fe8ecb104ba"
            }
          },
          "metadata": {}
        }
      ],
      "source": [
        "optimizer = tf.keras.optimizers.Adam(learning_rate=0.02)\n",
        "from tqdm.notebook import tqdm_notebook\n",
        "\n",
        "cost_history = []\n",
        "for epoch in tqdm_notebook(range(5000), desc=\"Epoch:\"):\n",
        "    # Compute gradients\n",
        "    with tf.GradientTape() as tape:\n",
        "        cost = cost_fun()\n",
        "    gradients = tape.gradient(cost, [chol_off_diag, chol_log_diag, post_means])\n",
        "\n",
        "    # Apply gradients using the optimizer\n",
        "    optimizer.apply_gradients(zip(gradients, [chol_off_diag, chol_log_diag, post_means]))\n",
        "\n",
        "    cost_history.append(float(cost))"
      ]
    },
    {
      "cell_type": "code",
      "execution_count": 7,
      "metadata": {
        "colab": {
          "base_uri": "https://localhost:8080/"
        },
        "id": "aS8knD9OyvtW",
        "outputId": "734bb97e-b1c3-4a61-ffea-83045750679a",
        "tags": []
      },
      "outputs": [
        {
          "output_type": "stream",
          "name": "stdout",
          "text": [
            "Estimate for amp1: 10.495883 (variance: 0.000000)\n",
            "Estimate for amp2: 10.399400 (variance: 0.000000)\n",
            "Estimate for r1: 0.994322\n",
            "Estimate for r2: 12.305187\n",
            "Estimate for beta (noise): 0.890496\n"
          ]
        }
      ],
      "source": [
        "final_means = post_means\n",
        "\n",
        "chol_diag = tf.linalg.diag(tf.math.sqrt(tf.math.exp(chol_log_diag)))\n",
        "post_covariance_chol = tf.add(chol_diag, tf.linalg.band_part(chol_off_diag, -1, 0))\n",
        "\n",
        "post_covariance = tf.matmul(tf.transpose(post_covariance_chol), post_covariance_chol)\n",
        "\n",
        "final_covariance = post_covariance\n",
        "print(\"Estimate for amp1: %f (variance: %f)\" % (final_means[0], final_covariance[0, 0]))\n",
        "print(\"Estimate for amp2: %f (variance: %f)\" % (final_means[2], final_covariance[0, 0]))\n",
        "print(\"Estimate for r1: %f\" % (np.exp(final_means[1]),))\n",
        "print(\"Estimate for r2: %f\" % (np.exp(final_means[3]),))\n",
        "print(\"Estimate for beta (noise): %f\" % np.exp(-final_means[4]))"
      ]
    },
    {
      "cell_type": "code",
      "execution_count": 8,
      "metadata": {
        "colab": {
          "base_uri": "https://localhost:8080/",
          "height": 848
        },
        "id": "rt4pHuNEyvtX",
        "outputId": "ce2c33ae-5118-482c-ee37-721bea5fab42",
        "tags": []
      },
      "outputs": [
        {
          "output_type": "display_data",
          "data": {
            "text/plain": [
              "<Figure size 640x480 with 1 Axes>"
            ],
            "image/png": "[encoded data removed]"
          },
          "metadata": {}
        },
        {
          "output_type": "display_data",
          "data": {
            "text/plain": [
              "<Figure size 640x480 with 1 Axes>"
            ],
            "image/png": "[encoded data removed]"
          },
          "metadata": {}
        }
      ],
      "source": [
        "plt.figure()\n",
        "plt.plot(cost_history)\n",
        "plt.ylim(0, 500)\n",
        "\n",
        "plt.figure()\n",
        "plt.plot(DATA_CLEAN, 'g')\n",
        "plt.plot(DATA, 'rx')\n",
        "S=5\n",
        "eps = tf.random.normal((NUM_PARAMS, S), 0, 1, dtype=tf.float32)\n",
        "\n",
        "samples = tf.tile(tf.reshape(post_means, [NUM_PARAMS, 1]), [1, S])\n",
        "\n",
        "# Now add the random sample scaled by the covariance\n",
        "post_samples = tf.add(samples, tf.matmul(post_covariance_chol, eps))\n",
        "\n",
        "a1 = tf.reshape(post_samples[0], [-1, 1])\n",
        "r1 = tf.math.exp(tf.reshape(post_samples[1], [-1, 1]))\n",
        "a2 = tf.reshape(post_samples[2], [-1, 1])\n",
        "r2 = tf.math.exp(tf.reshape(post_samples[3], [-1, 1]))\n",
        "\n",
        "# Get the current estimate of the noise variance remembering that\n",
        "# we are inferring the log of the noise precision, beta\n",
        "log_noise_var = -post_samples[4]\n",
        "noise_var = tf.math.exp(log_noise_var)\n",
        "\n",
        "# Each sample value predicts the full set of values in the data sample.\n",
        "# For our constant-signal model, the prediction is simply a set of\n",
        "# constant values. The prediction tensor will have shape [S, N]\n",
        "# where S is the sample size and N is the number of data values\n",
        "t = tf.reshape(tf.constant(T, dtype=tf.float32), [1, -1])\n",
        "prediction = a1*tf.math.exp(-r1*t) + a2*tf.exp(-r2*t)\n",
        "\n",
        "plt.plot(prediction[0], 'b')\n",
        "plt.show()"
      ]
    }
  ],
  "metadata": {
    "colab": {
      "provenance": [],
      "include_colab_link": true
    },
    "kernelspec": {
      "display_name": "sc_venv_tf",
      "language": "python",
      "name": "sc_venv_tf"
    },
    "language_info": {
      "codemirror_mode": {
        "name": "ipython",
        "version": 3
      },
      "file_extension": ".py",
      "mimetype": "text/x-python",
      "name": "python",
      "nbconvert_exporter": "python",
      "pygments_lexer": "ipython3",
      "version": "3.10.4"
    },
    "vscode": {
      "interpreter": {
        "hash": "31f2aee4e71d21fbe5cf8b01ff0e069b9275f58929596ceb00d14d90e3e16cd6"
      }
    },
    "widgets": {
      "application/vnd.jupyter.widget-state+json": {
        "6382a65afbb7433fabd07fe8ecb104ba": {
          "model_module": "@jupyter-widgets/controls",
          "model_name": "HBoxModel",
          "model_module_version": "1.5.0",
          "state": {
            "_dom_classes": [],
            "_model_module": "@jupyter-widgets/controls",
            "_model_module_version": "1.5.0",
            "_model_name": "HBoxModel",
            "_view_count": null,
            "_view_module": "@jupyter-widgets/controls",
            "_view_module_version": "1.5.0",
            "_view_name": "HBoxView",
            "box_style": "",
            "children": [
              "IPY_MODEL_241f15d80952409aa01a488e8b099967",
              "IPY_MODEL_a67cc64736a34a2ca5d915ac5ac1e2bd",
              "IPY_MODEL_12616654b36441589f7dab356b90de84"
            ],
            "layout": "IPY_MODEL_6960eaf14d8c4c13b51dea6dced80546"
          }
        },
        "241f15d80952409aa01a488e8b099967": {
          "model_module": "@jupyter-widgets/controls",
          "model_name": "HTMLModel",
          "model_module_version": "1.5.0",
          "state": {
            "_dom_classes": [],
            "_model_module": "@jupyter-widgets/controls",
            "_model_module_version": "1.5.0",
            "_model_name": "HTMLModel",
            "_view_count": null,
            "_view_module": "@jupyter-widgets/controls",
            "_view_module_version": "1.5.0",
            "_view_name": "HTMLView",
            "description": "",
            "description_tooltip": null,
            "layout": "IPY_MODEL_faa4b99cecb34ddabdc049895c5ecfb5",
            "placeholder": "​",
            "style": "IPY_MODEL_dbe1231dd03a46068cb05fee8bfa22c0",
            "value": "Epoch:: 100%"
          }
        },
        "a67cc64736a34a2ca5d915ac5ac1e2bd": {
          "model_module": "@jupyter-widgets/controls",
          "model_name": "FloatProgressModel",
          "model_module_version": "1.5.0",
          "state": {
            "_dom_classes": [],
            "_model_module": "@jupyter-widgets/controls",
            "_model_module_version": "1.5.0",
            "_model_name": "FloatProgressModel",
            "_view_count": null,
            "_view_module": "@jupyter-widgets/controls",
            "_view_module_version": "1.5.0",
            "_view_name": "ProgressView",
            "bar_style": "success",
            "description": "",
            "description_tooltip": null,
            "layout": "IPY_MODEL_fc6099216ff74e6fa333c40441ecae5a",
            "max": 5000,
            "min": 0,
            "orientation": "horizontal",
            "style": "IPY_MODEL_30da06616fe24ebc938d9112d25591f9",
            "value": 5000
          }
        },
        "12616654b36441589f7dab356b90de84": {
          "model_module": "@jupyter-widgets/controls",
          "model_name": "HTMLModel",
          "model_module_version": "1.5.0",
          "state": {
            "_dom_classes": [],
            "_model_module": "@jupyter-widgets/controls",
            "_model_module_version": "1.5.0",
            "_model_name": "HTMLModel",
            "_view_count": null,
            "_view_module": "@jupyter-widgets/controls",
            "_view_module_version": "1.5.0",
            "_view_name": "HTMLView",
            "description": "",
            "description_tooltip": null,
            "layout": "IPY_MODEL_8dfc296f2d684acc9596bfb2440f9686",
            "placeholder": "​",
            "style": "IPY_MODEL_5a69de6f188f4059b60c600b68637c20",
            "value": " 5000/5000 [03:21&lt;00:00, 27.07it/s]"
          }
        },
        "6960eaf14d8c4c13b51dea6dced80546": {
          "model_module": "@jupyter-widgets/base",
          "model_name": "LayoutModel",
          "model_module_version": "1.2.0",
          "state": {
            "_model_module": "@jupyter-widgets/base",
            "_model_module_version": "1.2.0",
            "_model_name": "LayoutModel",
            "_view_count": null,
            "_view_module": "@jupyter-widgets/base",
            "_view_module_version": "1.2.0",
            "_view_name": "LayoutView",
            "align_content": null,
            "align_items": null,
            "align_self": null,
            "border": null,
            "bottom": null,
            "display": null,
            "flex": null,
            "flex_flow": null,
            "grid_area": null,
            "grid_auto_columns": null,
            "grid_auto_flow": null,
            "grid_auto_rows": null,
            "grid_column": null,
            "grid_gap": null,
            "grid_row": null,
            "grid_template_areas": null,
            "grid_template_columns": null,
            "grid_template_rows": null,
            "height": null,
            "justify_content": null,
            "justify_items": null,
            "left": null,
            "margin": null,
            "max_height": null,
            "max_width": null,
            "min_height": null,
            "min_width": null,
            "object_fit": null,
            "object_position": null,
            "order": null,
            "overflow": null,
            "overflow_x": null,
            "overflow_y": null,
            "padding": null,
            "right": null,
            "top": null,
            "visibility": null,
            "width": null
          }
        },
        "faa4b99cecb34ddabdc049895c5ecfb5": {
          "model_module": "@jupyter-widgets/base",
          "model_name": "LayoutModel",
          "model_module_version": "1.2.0",
          "state": {
            "_model_module": "@jupyter-widgets/base",
            "_model_module_version": "1.2.0",
            "_model_name": "LayoutModel",
            "_view_count": null,
            "_view_module": "@jupyter-widgets/base",
            "_view_module_version": "1.2.0",
            "_view_name": "LayoutView",
            "align_content": null,
            "align_items": null,
            "align_self": null,
            "border": null,
            "bottom": null,
            "display": null,
            "flex": null,
            "flex_flow": null,
            "grid_area": null,
            "grid_auto_columns": null,
            "grid_auto_flow": null,
            "grid_auto_rows": null,
            "grid_column": null,
            "grid_gap": null,
            "grid_row": null,
            "grid_template_areas": null,
            "grid_template_columns": null,
            "grid_template_rows": null,
            "height": null,
            "justify_content": null,
            "justify_items": null,
            "left": null,
            "margin": null,
            "max_height": null,
            "max_width": null,
            "min_height": null,
            "min_width": null,
            "object_fit": null,
            "object_position": null,
            "order": null,
            "overflow": null,
            "overflow_x": null,
            "overflow_y": null,
            "padding": null,
            "right": null,
            "top": null,
            "visibility": null,
            "width": null
          }
        },
        "dbe1231dd03a46068cb05fee8bfa22c0": {
          "model_module": "@jupyter-widgets/controls",
          "model_name": "DescriptionStyleModel",
          "model_module_version": "1.5.0",
          "state": {
            "_model_module": "@jupyter-widgets/controls",
            "_model_module_version": "1.5.0",
            "_model_name": "DescriptionStyleModel",
            "_view_count": null,
            "_view_module": "@jupyter-widgets/base",
            "_view_module_version": "1.2.0",
            "_view_name": "StyleView",
            "description_width": ""
          }
        },
        "fc6099216ff74e6fa333c40441ecae5a": {
          "model_module": "@jupyter-widgets/base",
          "model_name": "LayoutModel",
          "model_module_version": "1.2.0",
          "state": {
            "_model_module": "@jupyter-widgets/base",
            "_model_module_version": "1.2.0",
            "_model_name": "LayoutModel",
            "_view_count": null,
            "_view_module": "@jupyter-widgets/base",
            "_view_module_version": "1.2.0",
            "_view_name": "LayoutView",
            "align_content": null,
            "align_items": null,
            "align_self": null,
            "border": null,
            "bottom": null,
            "display": null,
            "flex": null,
            "flex_flow": null,
            "grid_area": null,
            "grid_auto_columns": null,
            "grid_auto_flow": null,
            "grid_auto_rows": null,
            "grid_column": null,
            "grid_gap": null,
            "grid_row": null,
            "grid_template_areas": null,
            "grid_template_columns": null,
            "grid_template_rows": null,
            "height": null,
            "justify_content": null,
            "justify_items": null,
            "left": null,
            "margin": null,
            "max_height": null,
            "max_width": null,
            "min_height": null,
            "min_width": null,
            "object_fit": null,
            "object_position": null,
            "order": null,
            "overflow": null,
            "overflow_x": null,
            "overflow_y": null,
            "padding": null,
            "right": null,
            "top": null,
            "visibility": null,
            "width": null
          }
        },
        "30da06616fe24ebc938d9112d25591f9": {
          "model_module": "@jupyter-widgets/controls",
          "model_name": "ProgressStyleModel",
          "model_module_version": "1.5.0",
          "state": {
            "_model_module": "@jupyter-widgets/controls",
            "_model_module_version": "1.5.0",
            "_model_name": "ProgressStyleModel",
            "_view_count": null,
            "_view_module": "@jupyter-widgets/base",
            "_view_module_version": "1.2.0",
            "_view_name": "StyleView",
            "bar_color": null,
            "description_width": ""
          }
        },
        "8dfc296f2d684acc9596bfb2440f9686": {
          "model_module": "@jupyter-widgets/base",
          "model_name": "LayoutModel",
          "model_module_version": "1.2.0",
          "state": {
            "_model_module": "@jupyter-widgets/base",
            "_model_module_version": "1.2.0",
            "_model_name": "LayoutModel",
            "_view_count": null,
            "_view_module": "@jupyter-widgets/base",
            "_view_module_version": "1.2.0",
            "_view_name": "LayoutView",
            "align_content": null,
            "align_items": null,
            "align_self": null,
            "border": null,
            "bottom": null,
            "display": null,
            "flex": null,
            "flex_flow": null,
            "grid_area": null,
            "grid_auto_columns": null,
            "grid_auto_flow": null,
            "grid_auto_rows": null,
            "grid_column": null,
            "grid_gap": null,
            "grid_row": null,
            "grid_template_areas": null,
            "grid_template_columns": null,
            "grid_template_rows": null,
            "height": null,
            "justify_content": null,
            "justify_items": null,
            "left": null,
            "margin": null,
            "max_height": null,
            "max_width": null,
            "min_height": null,
            "min_width": null,
            "object_fit": null,
            "object_position": null,
            "order": null,
            "overflow": null,
            "overflow_x": null,
            "overflow_y": null,
            "padding": null,
            "right": null,
            "top": null,
            "visibility": null,
            "width": null
          }
        },
        "5a69de6f188f4059b60c600b68637c20": {
          "model_module": "@jupyter-widgets/controls",
          "model_name": "DescriptionStyleModel",
          "model_module_version": "1.5.0",
          "state": {
            "_model_module": "@jupyter-widgets/controls",
            "_model_module_version": "1.5.0",
            "_model_name": "DescriptionStyleModel",
            "_view_count": null,
            "_view_module": "@jupyter-widgets/base",
            "_view_module_version": "1.2.0",
            "_view_name": "StyleView",
            "description_width": ""
          }
        }
      }
    }
  },
  "nbformat": 4,
  "nbformat_minor": 0
}