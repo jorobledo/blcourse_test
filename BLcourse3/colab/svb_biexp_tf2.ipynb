{
  "cells": [
    {
      "cell_type": "markdown",
      "metadata": {
        "id": "view-in-github",
        "colab_type": "text"
      },
      "source": [
        "<a href=\"https://colab.research.google.com/github/jorobledo/bayesian_learning_course/blob/main/BLcourse3/colab/svb_biexp_tf2.ipynb\" target=\"_parent\"><img src=\"https://colab.research.google.com/assets/colab-badge.svg\" alt=\"Open In Colab\"/></a>"
      ]
    },
    {
      "cell_type": "code",
      "execution_count": null,
      "metadata": {
        "id": "nflgKAoByxBm"
      },
      "outputs": [],
      "source": [
        "# Initialize Colab\n",
        "!git clone https://github.com/jorobledo/bayesian_learning_course.git\n",
        "%cd bayesian_learning_course/BLcourse2/colab/"
      ]
    },
    {
      "cell_type": "markdown",
      "metadata": {
        "id": "i9hNtl_QyvtQ"
      },
      "source": [
        "Stochastic Variational Bayes - example nonlinear model\n",
        "==============================================\n",
        "\n",
        "This notebook implements stochastic variational Bayes for a nonlinear model. The model we will use is a bi-exponential model, i.e. we will assume our data reflects a time-dependent signal of the following form:\n",
        "\n",
        "$$S_{true}(t) = A_1 e^{-R_1t} + A_2 e^{-R_2t}$$\n",
        "\n",
        "However the actual time dependent signal $S(t)$ will be affected by additive Gaussian noise, so will have the distribution:\n",
        "\n",
        "$$P(S(t)) = \\frac{\\sqrt{\\beta}}{\\sqrt{2\\pi}} \\exp{\\bigg(-\\frac{\\beta}{2} (S(t) - S_{true}(t))^2}\\bigg)$$\n",
        "\n",
        "Given $S(t)$ our aim will be to infer the values of $A_1$, $A_2$, $R_1$, $R_2$ and $\\beta$.\n",
        "\n",
        "Here's how we can generate some sample data from this model in Python:"
      ]
    },
    {
      "cell_type": "code",
      "execution_count": null,
      "metadata": {
        "colab": {
          "base_uri": "https://localhost:8080/"
        },
        "id": "VcOULI1pyvtT",
        "outputId": "83f3b269-0cab-4cb2-8246-f663de8f08af",
        "tags": []
      },
      "outputs": [
        {
          "name": "stdout",
          "output_type": "stream",
          "text": [
            "Data samples are:\n",
            "[ 2.04606428e+01  1.72173727e+01  1.62875878e+01  1.33816269e+01\n",
            "  1.46869546e+01  1.20560881e+01  1.16402543e+01  8.94757377e+00\n",
            "  8.68940587e+00  9.71717349e+00  7.91948878e+00  7.02537084e+00\n",
            "  8.59176369e+00  7.34458555e+00  6.36541760e+00  6.50461133e+00\n",
            "  7.79443155e+00  5.64545321e+00  7.12943031e+00  6.84301651e+00\n",
            "  5.00196528e+00  6.20739009e+00  5.65111098e+00  3.52965908e+00\n",
            "  5.65240534e+00  5.86199648e+00  5.66543460e+00  4.59606486e+00\n",
            "  6.27178943e+00  4.64449932e+00  4.49373015e+00  5.17910679e+00\n",
            "  5.43085120e+00  3.66247799e+00  3.60245969e+00  3.82610994e+00\n",
            "  6.22772115e+00  1.31644886e+00  4.30440633e+00  4.67871031e+00\n",
            "  3.47211603e+00  3.26655068e+00  3.52287073e+00  3.09569293e+00\n",
            "  2.13321907e+00  4.00133435e+00  3.59323298e+00  2.34026359e+00\n",
            "  4.03247277e+00  3.32147077e+00  2.68066032e+00  2.34048977e+00\n",
            "  3.12027529e+00  2.30008446e+00  2.70462891e+00  2.63336543e+00\n",
            "  4.45444654e+00  3.33513410e+00  1.27692073e+00  1.59227097e+00\n",
            "  2.14657954e+00  3.77327605e+00  1.29181163e+00  6.98667693e-01\n",
            " -3.89395162e-01  2.40302339e+00  3.26244321e+00  2.99759638e+00\n",
            "  1.76838519e+00  1.91464778e+00  4.14492423e-01  3.10137777e+00\n",
            "  2.33296153e+00  1.49694929e+00 -6.15810073e-02  2.06128071e+00\n",
            "  5.07962786e-01  1.07134327e+00  2.19929443e+00 -9.13338940e-01\n",
            "  2.02193534e+00  4.52424214e-01  4.38066510e-01  6.67833571e-01\n",
            "  6.40138569e-01  8.54299065e-01  3.07154686e+00  1.36824460e+00\n",
            "  7.65533317e-01 -1.62543323e+00 -4.24340641e-01  5.37688209e-01\n",
            "  1.21501440e+00 -5.54524985e-01 -3.22778635e-01  1.08532351e+00\n",
            "  5.94904556e-01  5.07819766e-02  4.31397061e-01  1.74846905e+00\n",
            " -1.23718407e+00  3.96544916e-02  7.79842546e-02 -2.86820022e-01\n",
            "  5.28183145e-01  2.99295277e-02 -6.92700805e-01  3.84033439e-01\n",
            " -9.27325151e-01 -2.44368298e-01  2.52866495e+00  4.08641962e-01\n",
            " -1.05687156e-01  1.45679620e+00  2.58590709e+00  1.72418862e+00\n",
            "  1.35226699e+00  1.34327233e+00  1.03956859e+00  1.45731338e-01\n",
            " -2.15758430e-01  4.42899351e-01  2.06101930e+00  3.66413584e-01\n",
            " -1.05354863e+00  6.75383129e-01  2.25136146e+00 -1.14385408e+00\n",
            "  6.37791507e-01 -2.34096425e-01  1.58857570e+00 -1.19672825e+00\n",
            " -1.01306983e-01  3.16342313e-01 -4.54702470e-01  1.34100978e+00\n",
            " -1.24913684e+00  1.83010673e+00  1.40743436e-01  1.69557784e-02\n",
            "  1.20970850e-01  4.90861781e-02  7.02957978e-01 -8.46238284e-01\n",
            " -7.36498563e-01  3.26724827e-01  1.52657668e+00 -1.67624031e+00\n",
            " -2.18099096e-01  6.28053402e-01  6.45336919e-01 -2.07279750e-01\n",
            "  5.82461985e-01  4.12224377e-01  2.78814526e-01  1.74297435e+00\n",
            " -7.28042523e-01  2.85634943e-01  1.45987489e+00 -1.05395548e+00\n",
            " -3.36116280e-01 -4.12965691e-01  1.93203387e-01  8.10335707e-01\n",
            " -1.80419021e+00  1.51241757e-01 -1.27742053e+00 -7.32527027e-01\n",
            "  2.05869839e+00  2.74400504e-01  8.38785015e-02 -1.87361193e-01\n",
            "  4.06102193e-01  9.77263151e-01  1.40197517e+00 -1.73211219e+00\n",
            "  1.32067771e+00 -2.11552610e-01  5.19349549e-01 -9.26767157e-01\n",
            " -1.77027559e+00  2.40031451e-01  1.32178727e+00  1.20029094e+00\n",
            "  1.04284375e+00  3.44908669e+00 -1.30093055e-01  3.42698338e-01\n",
            "  5.69880110e-01  2.02131418e+00 -1.13450969e+00 -4.25241860e-01\n",
            " -1.35914912e-01  4.08311089e-01 -1.96745818e+00 -2.64111979e-01\n",
            "  2.51920684e-01  1.31672541e+00  8.76215436e-01 -1.06695107e+00]\n"
          ]
        }
      ],
      "source": [
        "import numpy as np\n",
        "%matplotlib inline\n",
        "# Ground truth parameters\n",
        "# We infer the precision, BETA, but it is useful to\n",
        "# derive the variance and standard deviation from it\n",
        "A1_TRUTH = 10.0\n",
        "A2_TRUTH = 10.0\n",
        "R1_TRUTH = 10.0\n",
        "R2_TRUTH = 1.0\n",
        "BETA_TRUTH = 1.0\n",
        "VAR_TRUTH = 1/BETA_TRUTH\n",
        "STD_TRUTH = np.sqrt(VAR_TRUTH)\n",
        "\n",
        "# Observed data samples are generated by Numpy from the ground truth\n",
        "# Gaussian distribution. Reducing the number of samples should make\n",
        "# the inference less 'confident' - i.e. the output variances for\n",
        "# MU and BETA will increase\n",
        "N = 200\n",
        "T = np.linspace(0, 5, N)\n",
        "\n",
        "\n",
        "DATA_CLEAN = A1_TRUTH * np.exp(-R1_TRUTH * T) + A2_TRUTH * np.exp(-R2_TRUTH*T)\n",
        "DATA = DATA_CLEAN + np.random.normal(0, STD_TRUTH, [N])\n",
        "print(\"Data samples are:\")\n",
        "print(DATA)"
      ]
    },
    {
      "cell_type": "markdown",
      "metadata": {
        "id": "sG_cFBZPyvtU"
      },
      "source": [
        "We can plot this data to illustrate the true signal (green line) and the measured data (red crosses):"
      ]
    },
    {
      "cell_type": "code",
      "execution_count": null,
      "metadata": {
        "colab": {
          "base_uri": "https://localhost:8080/",
          "height": 448
        },
        "id": "pz_Pb1VZyvtU",
        "outputId": "eb3563ea-24cc-4c1b-890a-7acf3370f747",
        "tags": []
      },
      "outputs": [
        {
          "data": {
            "text/plain": [
              "[<matplotlib.lines.Line2D at 0x794b67050910>]"
            ]
          },
          "execution_count": 3,
          "metadata": {},
          "output_type": "execute_result"
        },
        {
          "data": {
            "image/png": "[encoded data removed]",
            "text/plain": [
              "<Figure size 640x480 with 1 Axes>"
            ]
          },
          "metadata": {},
          "output_type": "display_data"
        }
      ],
      "source": [
        "from matplotlib import pyplot as plt\n",
        "plt.figure()\n",
        "plt.plot(DATA, \"rx\")\n",
        "plt.plot(DATA_CLEAN, \"g\")"
      ]
    },
    {
      "cell_type": "markdown",
      "metadata": {
        "id": "NoaTVEyGyvtV"
      },
      "source": [
        "As with the single Gaussian example we will use a multivariate normal distribution as our prior and approximate posterior distributions.\n",
        "\n",
        "One difference here is that we will choose to infer the log of the decay rate parameters $R_1$ and $R_2$. This is because if these parameters are allowed to become negative the model prediction will become an exponential growth and can easily lead to numerical errors.\n",
        "\n",
        "We will still choose our priors to be relatively uninformative as follows:\n"
      ]
    },
    {
      "cell_type": "code",
      "execution_count": null,
      "metadata": {
        "colab": {
          "base_uri": "https://localhost:8080/"
        },
        "id": "Gk26Mws4yvtV",
        "outputId": "9068076a-b110-4f06-d7c3-0cdb6e93012e",
        "tags": []
      },
      "outputs": [
        {
          "name": "stdout",
          "output_type": "stream",
          "text": [
            "Priors: Amplitude mean=1.000000, variance=100000.000000\n",
            "        Log decay rate mean=0.000000, variance=10.000000\n",
            "        Log noise variance mean=0.000000, variance=10.000000\n"
          ]
        }
      ],
      "source": [
        "a0 = 1.0\n",
        "v0 = 100000.0\n",
        "r0 = 0.0\n",
        "u0 = 10.0\n",
        "b0 = 0.0\n",
        "w0 = 10.0\n",
        "print(\"Priors: Amplitude mean=%f, variance=%f\" % (a0, v0))\n",
        "print(\"        Log decay rate mean=%f, variance=%f\" % (r0, u0))\n",
        "print(\"        Log noise variance mean=%f, variance=%f\" % (b0, w0))"
      ]
    },
    {
      "cell_type": "markdown",
      "metadata": {
        "id": "4PSvPhOmyvtV"
      },
      "source": [
        "The posterior will be defined in the same way as for the single Gaussian example, however we need to account for the increased number of parameters we are inferring. We will initialize the posterior with the prior values but with reduced initial variance to prevent problems with generating a representative posterior sample. Remember that the decay rates (and the noise) are being inferred as their log-values so the prior mean of 0 translates into a value of 1.\n",
        "\n",
        "The code to generate a posterior sample is unchanged except for the number of parameters.\n",
        "\n",
        "In calculating the reconstruction cost we need to calculate the log likelihood of the data given a set of model parameters. We do this by observing that any difference between the biexponential model prediction (given these parameters) and the actual noisy data must be a result of the Gaussian noise - hence the likelihood is simply the likelihood of drawing these differences from the Gaussian noise distribution:\n",
        "\n",
        "$$\\log P(\\textbf{y} | A_1; A_2; r_1; r_2; \\beta) = \\frac{1}{2} \\bigg( N \\log \\beta - \\sum{\\frac{(y_n - M_n)^2}{\\beta}}\\bigg)$$\n",
        "\n",
        "Here $M_n$ is the model prediction for the nth data point which is calculated by evaluating the biexponential model for the given parameters $A_1$, $A_2$, $r_1$ and $r_2$.\n",
        "\n",
        "For the latent loss we will again use the analytic expression for the K-L divergence of two MVN distributions with a slight modification to the previous code to account for the different number of parameters (5 vs 2)"
      ]
    },
    {
      "cell_type": "code",
      "execution_count": null,
      "metadata": {
        "id": "DVnG78ADyvtV",
        "tags": []
      },
      "outputs": [],
      "source": [
        "import tensorflow as tf\n",
        "\n",
        "# Number of parameters - 4 for the biexponential + noise\n",
        "NUM_PARAMS = 4 + 1\n",
        "\n",
        "data = tf.constant(DATA, dtype=tf.float32)\n",
        "prior_means = tf.constant([a0, r0, a0, r0, b0], dtype=tf.float32)\n",
        "prior_covariance = tf.linalg.diag(tf.constant([v0, u0, v0, u0, w0], dtype=tf.float32))\n",
        "\n",
        "post_means_init = prior_means\n",
        "post_covariance_init = np.identity(NUM_PARAMS, dtype=np.float32)\n",
        "\n",
        "chol_off_diag = tf.Variable(np.zeros(post_covariance_init.shape), dtype=tf.float32)\n",
        "# Comment in this line if you do NOT want to infer parameter covariances\n",
        "#chol_off_diag = tf.constant([[0, 0], [0, 0]], dtype=tf.float32)\n",
        "chol_log_diag = tf.Variable(tf.math.log(tf.linalg.diag_part(post_covariance_init)), dtype=tf.float32)\n",
        "\n",
        "post_means = tf.Variable(post_means_init, dtype=tf.float32)\n",
        "\n",
        "t = tf.reshape(tf.constant(T, dtype=tf.float32), [1, -1])\n",
        "\n",
        "\n",
        "\n",
        "def cost_fun():\n",
        "\n",
        "    chol_diag = tf.linalg.diag(tf.math.sqrt(tf.math.exp(chol_log_diag)))\n",
        "    post_covariance_chol = tf.math.add(chol_diag, tf.linalg.band_part(chol_off_diag, -1, 0))\n",
        "\n",
        "    post_covariance = tf.matmul(tf.transpose(post_covariance_chol), post_covariance_chol)\n",
        "\n",
        "    S=5\n",
        "    N=200\n",
        "\n",
        "# eps is a sample from a Gaussian with mean 0 and variance 1\n",
        "    eps = tf.random.normal((NUM_PARAMS, S), 0, 1, dtype=tf.float32)\n",
        "\n",
        "# Start off each sample with the current posterior mean\n",
        "# post_samples is now a tensor of shape [NUM_PARAMS, n_samples]\n",
        "    samples = tf.tile(tf.reshape(post_means, [NUM_PARAMS, 1]), [1, S])\n",
        "\n",
        "# Now add the random sample scaled by the covariance\n",
        "    post_samples = tf.add(samples, tf.matmul(post_covariance_chol, eps))\n",
        "\n",
        "    a1 = tf.reshape(post_samples[0], [-1, 1])\n",
        "    r1 = tf.math.exp(tf.reshape(post_samples[1], [-1, 1]))\n",
        "    a2 = tf.reshape(post_samples[2], [-1, 1])\n",
        "    r2 = tf.math.exp(tf.reshape(post_samples[3], [-1, 1]))\n",
        "\n",
        "# Get the current estimate of the noise variance remembering that\n",
        "# we are inferring the log of the noise precision, beta\n",
        "    log_noise_var = -post_samples[4]\n",
        "    noise_var = tf.math.exp(log_noise_var)\n",
        "\n",
        "# Each sample value predicts the full set of values in the data sample.\n",
        "# For our constant-signal model, the prediction is simply a set of\n",
        "# constant values. The prediction tensor will have shape [S, N]\n",
        "# where S is the sample size and N is the number of data values\n",
        "\n",
        "\n",
        "    prediction = a1*tf.math.exp(-r1*t) + a2*tf.exp(-r2*t)\n",
        "    diff = tf.reshape(data, [1, -1]) - prediction\n",
        "\n",
        "# To calculate the likelihood we need the sum of the squared difference between the data\n",
        "# and the prediction. This gives a value for each posterior sample so has shape [S]\n",
        "    sum_square_diff = tf.reduce_sum(tf.math.square(diff), axis=1)\n",
        "\n",
        "# Now we calculate the likelihood for each posterior sample (shape [S])\n",
        "# Note that we are ignoring constant factors such as 2*PI here as they\n",
        "# are just an fixed offset and do not affect the optimization\n",
        "    log_likelihood = 0.5 * (-log_noise_var * tf.cast(N,dtype=tf.float32) - sum_square_diff / noise_var)\n",
        "\n",
        "# Finally to evaluate the expectation value we take the mean across all the posterior\n",
        "# samples. The negative of this is the reconstruction loss\n",
        "    reconstr_loss = -tf.reduce_mean(log_likelihood)\n",
        "\n",
        "    C = post_covariance\n",
        "    C0 = prior_covariance\n",
        "    #print(\"is this the problem? 1\")\n",
        "    #print(tf.linalg.det(C0))\n",
        "    C0_inv = tf.linalg.inv(C0)\n",
        "    #print(\"is this the problem? 2\")\n",
        "\n",
        "# m - m0 as row and column vectors\n",
        "    m_minus_m0 = tf.reshape(tf.subtract(post_means, prior_means), [-1, 1])\n",
        "    m_minus_m0_T = tf.reshape(tf.subtract(post_means, prior_means), [1, -1])\n",
        "\n",
        "    term1 = tf.linalg.trace(tf.matmul(C0_inv, C))\n",
        "    term2 = -tf.math.log(tf.linalg.det(C) / tf.linalg.det(C0))\n",
        "\n",
        "# Size of the MVN distribution\n",
        "    term3 = -NUM_PARAMS\n",
        "    term4 = tf.matmul(tf.matmul(m_minus_m0_T, C0_inv), m_minus_m0)\n",
        "\n",
        "    latent_loss = 0.5 * (term1 + term2 + term3 + term4)\n",
        "\n",
        "    #cost = reconstr_loss + latent_loss\n",
        "    cost=reconstr_loss\n",
        "\n",
        "    return cost\n",
        "\n",
        "\n"
      ]
    },
    {
      "cell_type": "markdown",
      "metadata": {
        "id": "RskytohsyvtW"
      },
      "source": [
        "Finally we ask TensorFlow to minimise the total cost iteratively:"
      ]
    },
    {
      "cell_type": "markdown",
      "metadata": {
        "id": "KD-fjgOO0j_s"
      },
      "source": [
        "\n",
        "\n",
        "1. tf.GradientTape: We use tf.GradientTape to record the operations and calculate the gradients of the cost function with respect to the variables (chol_off_diag, chol_log_diag, post_means).\n",
        "2. tape.gradient: This function calculates the gradients.\n",
        "3. optimizer.apply_gradients: This method updates the variables based on the calculated gradients and the optimizer's logic.\n",
        "\n"
      ]
    },
    {
      "cell_type": "code",
      "execution_count": null,
      "metadata": {
        "colab": {
          "base_uri": "https://localhost:8080/",
          "height": 49,
          "referenced_widgets": [
            "b63fd2e3a61346ed807cbfcf9b453e44",
            "1d5e40ff30fc4e86968f25d34bbe5b89",
            "8a3ec2f0b855431ab5d2e5d95619b5fc",
            "222c5814f1624750824bac77ce8469dd",
            "46d8ba0a1a444b0385a2a162b42c5771",
            "02acc1a20bd14cd4abc50eae3b6bbb1e",
            "6dc5c3de6a9d4dedb30689e628be1098",
            "41b3307910aa41818bc180eec84018a8",
            "6c325007c2e549a8bd279c39899999fc",
            "fe84c3f3ba3b44f8a8eccb12778d3559",
            "8c87bbd93e7740feb74818280777a9e8"
          ]
        },
        "id": "wEc26YEzyvtW",
        "outputId": "f5cd59bd-beef-4029-880b-f977b4994149",
        "tags": []
      },
      "outputs": [
        {
          "data": {
            "application/vnd.jupyter.widget-view+json": {
              "model_id": "b63fd2e3a61346ed807cbfcf9b453e44",
              "version_major": 2,
              "version_minor": 0
            },
            "text/plain": [
              "Epoch::   0%|          | 0/5000 [00:00<?, ?it/s]"
            ]
          },
          "metadata": {},
          "output_type": "display_data"
        }
      ],
      "source": [
        "optimizer = tf.keras.optimizers.Adam(learning_rate=0.02)\n",
        "from tqdm.notebook import tqdm_notebook\n",
        "\n",
        "cost_history = []\n",
        "for epoch in tqdm_notebook(range(5000), desc=\"Epoch:\"):\n",
        "    # Compute gradients\n",
        "    with tf.GradientTape() as tape:\n",
        "        cost = cost_fun()\n",
        "    gradients = tape.gradient(cost, [chol_off_diag, chol_log_diag, post_means])\n",
        "\n",
        "    # Apply gradients using the optimizer\n",
        "    optimizer.apply_gradients(zip(gradients, [chol_off_diag, chol_log_diag, post_means]))\n",
        "\n",
        "    cost_history.append(float(cost))"
      ]
    },
    {
      "cell_type": "code",
      "execution_count": null,
      "metadata": {
        "colab": {
          "base_uri": "https://localhost:8080/"
        },
        "id": "aS8knD9OyvtW",
        "outputId": "601d8c37-8508-4598-fa1d-6dc721456f07",
        "tags": []
      },
      "outputs": [
        {
          "name": "stdout",
          "output_type": "stream",
          "text": [
            "Estimate for amp1: 10.262031 (variance: 0.000000)\n",
            "Estimate for amp2: 10.186665 (variance: 0.000000)\n",
            "Estimate for r1: 10.236505\n",
            "Estimate for r2: 1.059082\n",
            "Estimate for beta (noise): 1.056643\n"
          ]
        }
      ],
      "source": [
        "final_means = post_means\n",
        "\n",
        "chol_diag = tf.linalg.diag(tf.math.sqrt(tf.math.exp(chol_log_diag)))\n",
        "post_covariance_chol = tf.add(chol_diag, tf.linalg.band_part(chol_off_diag, -1, 0))\n",
        "\n",
        "post_covariance = tf.matmul(tf.transpose(post_covariance_chol), post_covariance_chol)\n",
        "\n",
        "final_covariance = post_covariance\n",
        "print(\"Estimate for amp1: %f (variance: %f)\" % (final_means[0], final_covariance[0, 0]))\n",
        "print(\"Estimate for amp2: %f (variance: %f)\" % (final_means[2], final_covariance[0, 0]))\n",
        "print(\"Estimate for r1: %f\" % (np.exp(final_means[1]),))\n",
        "print(\"Estimate for r2: %f\" % (np.exp(final_means[3]),))\n",
        "print(\"Estimate for beta (noise): %f\" % np.exp(-final_means[4]))"
      ]
    },
    {
      "cell_type": "code",
      "execution_count": null,
      "metadata": {
        "colab": {
          "base_uri": "https://localhost:8080/",
          "height": 848
        },
        "id": "rt4pHuNEyvtX",
        "outputId": "986ccdaa-66d0-4d85-f309-6790f520a847",
        "tags": []
      },
      "outputs": [
        {
          "data": {
            "image/png": "[encoded data removed]",
            "text/plain": [
              "<Figure size 640x480 with 1 Axes>"
            ]
          },
          "metadata": {},
          "output_type": "display_data"
        },
        {
          "data": {
            "image/png": "[encoded data removed]",
            "text/plain": [
              "<Figure size 640x480 with 1 Axes>"
            ]
          },
          "metadata": {},
          "output_type": "display_data"
        }
      ],
      "source": [
        "plt.figure()\n",
        "plt.plot(cost_history)\n",
        "plt.ylim(0, 500)\n",
        "\n",
        "plt.figure()\n",
        "plt.plot(DATA_CLEAN, 'g')\n",
        "plt.plot(DATA, 'rx')\n",
        "S=5\n",
        "eps = tf.random.normal((NUM_PARAMS, S), 0, 1, dtype=tf.float32)\n",
        "\n",
        "samples = tf.tile(tf.reshape(post_means, [NUM_PARAMS, 1]), [1, S])\n",
        "\n",
        "# Now add the random sample scaled by the covariance\n",
        "post_samples = tf.add(samples, tf.matmul(post_covariance_chol, eps))\n",
        "\n",
        "a1 = tf.reshape(post_samples[0], [-1, 1])\n",
        "r1 = tf.math.exp(tf.reshape(post_samples[1], [-1, 1]))\n",
        "a2 = tf.reshape(post_samples[2], [-1, 1])\n",
        "r2 = tf.math.exp(tf.reshape(post_samples[3], [-1, 1]))\n",
        "\n",
        "# Get the current estimate of the noise variance remembering that\n",
        "# we are inferring the log of the noise precision, beta\n",
        "log_noise_var = -post_samples[4]\n",
        "noise_var = tf.math.exp(log_noise_var)\n",
        "\n",
        "# Each sample value predicts the full set of values in the data sample.\n",
        "# For our constant-signal model, the prediction is simply a set of\n",
        "# constant values. The prediction tensor will have shape [S, N]\n",
        "# where S is the sample size and N is the number of data values\n",
        "t = tf.reshape(tf.constant(T, dtype=tf.float32), [1, -1])\n",
        "prediction = a1*tf.math.exp(-r1*t) + a2*tf.exp(-r2*t)\n",
        "\n",
        "plt.plot(prediction[0], 'b')\n",
        "plt.show()"
      ]
    }
  ],
  "metadata": {
    "colab": {
      "provenance": [],
      "include_colab_link": true
    },
    "kernelspec": {
      "display_name": "sc_venv_tf",
      "language": "python",
      "name": "sc_venv_tf"
    },
    "language_info": {
      "codemirror_mode": {
        "name": "ipython",
        "version": 3
      },
      "file_extension": ".py",
      "mimetype": "text/x-python",
      "name": "python",
      "nbconvert_exporter": "python",
      "pygments_lexer": "ipython3",
      "version": "3.10.4"
    },
    "vscode": {
      "interpreter": {
        "hash": "31f2aee4e71d21fbe5cf8b01ff0e069b9275f58929596ceb00d14d90e3e16cd6"
      }
    },
    "widgets": {
      "application/vnd.jupyter.widget-state+json": {
        "02acc1a20bd14cd4abc50eae3b6bbb1e": {
          "model_module": "@jupyter-widgets/base",
          "model_module_version": "1.2.0",
          "model_name": "LayoutModel",
          "state": {
            "_model_module": "@jupyter-widgets/base",
            "_model_module_version": "1.2.0",
            "_model_name": "LayoutModel",
            "_view_count": null,
            "_view_module": "@jupyter-widgets/base",
            "_view_module_version": "1.2.0",
            "_view_name": "LayoutView",
            "align_content": null,
            "align_items": null,
            "align_self": null,
            "border": null,
            "bottom": null,
            "display": null,
            "flex": null,
            "flex_flow": null,
            "grid_area": null,
            "grid_auto_columns": null,
            "grid_auto_flow": null,
            "grid_auto_rows": null,
            "grid_column": null,
            "grid_gap": null,
            "grid_row": null,
            "grid_template_areas": null,
            "grid_template_columns": null,
            "grid_template_rows": null,
            "height": null,
            "justify_content": null,
            "justify_items": null,
            "left": null,
            "margin": null,
            "max_height": null,
            "max_width": null,
            "min_height": null,
            "min_width": null,
            "object_fit": null,
            "object_position": null,
            "order": null,
            "overflow": null,
            "overflow_x": null,
            "overflow_y": null,
            "padding": null,
            "right": null,
            "top": null,
            "visibility": null,
            "width": null
          }
        },
        "1d5e40ff30fc4e86968f25d34bbe5b89": {
          "model_module": "@jupyter-widgets/controls",
          "model_module_version": "1.5.0",
          "model_name": "HTMLModel",
          "state": {
            "_dom_classes": [],
            "_model_module": "@jupyter-widgets/controls",
            "_model_module_version": "1.5.0",
            "_model_name": "HTMLModel",
            "_view_count": null,
            "_view_module": "@jupyter-widgets/controls",
            "_view_module_version": "1.5.0",
            "_view_name": "HTMLView",
            "description": "",
            "description_tooltip": null,
            "layout": "IPY_MODEL_02acc1a20bd14cd4abc50eae3b6bbb1e",
            "placeholder": "​",
            "style": "IPY_MODEL_6dc5c3de6a9d4dedb30689e628be1098",
            "value": "Epoch:: 100%"
          }
        },
        "222c5814f1624750824bac77ce8469dd": {
          "model_module": "@jupyter-widgets/controls",
          "model_module_version": "1.5.0",
          "model_name": "HTMLModel",
          "state": {
            "_dom_classes": [],
            "_model_module": "@jupyter-widgets/controls",
            "_model_module_version": "1.5.0",
            "_model_name": "HTMLModel",
            "_view_count": null,
            "_view_module": "@jupyter-widgets/controls",
            "_view_module_version": "1.5.0",
            "_view_name": "HTMLView",
            "description": "",
            "description_tooltip": null,
            "layout": "IPY_MODEL_fe84c3f3ba3b44f8a8eccb12778d3559",
            "placeholder": "​",
            "style": "IPY_MODEL_8c87bbd93e7740feb74818280777a9e8",
            "value": " 5000/5000 [03:59&lt;00:00, 18.92it/s]"
          }
        },
        "41b3307910aa41818bc180eec84018a8": {
          "model_module": "@jupyter-widgets/base",
          "model_module_version": "1.2.0",
          "model_name": "LayoutModel",
          "state": {
            "_model_module": "@jupyter-widgets/base",
            "_model_module_version": "1.2.0",
            "_model_name": "LayoutModel",
            "_view_count": null,
            "_view_module": "@jupyter-widgets/base",
            "_view_module_version": "1.2.0",
            "_view_name": "LayoutView",
            "align_content": null,
            "align_items": null,
            "align_self": null,
            "border": null,
            "bottom": null,
            "display": null,
            "flex": null,
            "flex_flow": null,
            "grid_area": null,
            "grid_auto_columns": null,
            "grid_auto_flow": null,
            "grid_auto_rows": null,
            "grid_column": null,
            "grid_gap": null,
            "grid_row": null,
            "grid_template_areas": null,
            "grid_template_columns": null,
            "grid_template_rows": null,
            "height": null,
            "justify_content": null,
            "justify_items": null,
            "left": null,
            "margin": null,
            "max_height": null,
            "max_width": null,
            "min_height": null,
            "min_width": null,
            "object_fit": null,
            "object_position": null,
            "order": null,
            "overflow": null,
            "overflow_x": null,
            "overflow_y": null,
            "padding": null,
            "right": null,
            "top": null,
            "visibility": null,
            "width": null
          }
        },
        "46d8ba0a1a444b0385a2a162b42c5771": {
          "model_module": "@jupyter-widgets/base",
          "model_module_version": "1.2.0",
          "model_name": "LayoutModel",
          "state": {
            "_model_module": "@jupyter-widgets/base",
            "_model_module_version": "1.2.0",
            "_model_name": "LayoutModel",
            "_view_count": null,
            "_view_module": "@jupyter-widgets/base",
            "_view_module_version": "1.2.0",
            "_view_name": "LayoutView",
            "align_content": null,
            "align_items": null,
            "align_self": null,
            "border": null,
            "bottom": null,
            "display": null,
            "flex": null,
            "flex_flow": null,
            "grid_area": null,
            "grid_auto_columns": null,
            "grid_auto_flow": null,
            "grid_auto_rows": null,
            "grid_column": null,
            "grid_gap": null,
            "grid_row": null,
            "grid_template_areas": null,
            "grid_template_columns": null,
            "grid_template_rows": null,
            "height": null,
            "justify_content": null,
            "justify_items": null,
            "left": null,
            "margin": null,
            "max_height": null,
            "max_width": null,
            "min_height": null,
            "min_width": null,
            "object_fit": null,
            "object_position": null,
            "order": null,
            "overflow": null,
            "overflow_x": null,
            "overflow_y": null,
            "padding": null,
            "right": null,
            "top": null,
            "visibility": null,
            "width": null
          }
        },
        "6c325007c2e549a8bd279c39899999fc": {
          "model_module": "@jupyter-widgets/controls",
          "model_module_version": "1.5.0",
          "model_name": "ProgressStyleModel",
          "state": {
            "_model_module": "@jupyter-widgets/controls",
            "_model_module_version": "1.5.0",
            "_model_name": "ProgressStyleModel",
            "_view_count": null,
            "_view_module": "@jupyter-widgets/base",
            "_view_module_version": "1.2.0",
            "_view_name": "StyleView",
            "bar_color": null,
            "description_width": ""
          }
        },
        "6dc5c3de6a9d4dedb30689e628be1098": {
          "model_module": "@jupyter-widgets/controls",
          "model_module_version": "1.5.0",
          "model_name": "DescriptionStyleModel",
          "state": {
            "_model_module": "@jupyter-widgets/controls",
            "_model_module_version": "1.5.0",
            "_model_name": "DescriptionStyleModel",
            "_view_count": null,
            "_view_module": "@jupyter-widgets/base",
            "_view_module_version": "1.2.0",
            "_view_name": "StyleView",
            "description_width": ""
          }
        },
        "8a3ec2f0b855431ab5d2e5d95619b5fc": {
          "model_module": "@jupyter-widgets/controls",
          "model_module_version": "1.5.0",
          "model_name": "FloatProgressModel",
          "state": {
            "_dom_classes": [],
            "_model_module": "@jupyter-widgets/controls",
            "_model_module_version": "1.5.0",
            "_model_name": "FloatProgressModel",
            "_view_count": null,
            "_view_module": "@jupyter-widgets/controls",
            "_view_module_version": "1.5.0",
            "_view_name": "ProgressView",
            "bar_style": "success",
            "description": "",
            "description_tooltip": null,
            "layout": "IPY_MODEL_41b3307910aa41818bc180eec84018a8",
            "max": 5000,
            "min": 0,
            "orientation": "horizontal",
            "style": "IPY_MODEL_6c325007c2e549a8bd279c39899999fc",
            "value": 5000
          }
        },
        "8c87bbd93e7740feb74818280777a9e8": {
          "model_module": "@jupyter-widgets/controls",
          "model_module_version": "1.5.0",
          "model_name": "DescriptionStyleModel",
          "state": {
            "_model_module": "@jupyter-widgets/controls",
            "_model_module_version": "1.5.0",
            "_model_name": "DescriptionStyleModel",
            "_view_count": null,
            "_view_module": "@jupyter-widgets/base",
            "_view_module_version": "1.2.0",
            "_view_name": "StyleView",
            "description_width": ""
          }
        },
        "b63fd2e3a61346ed807cbfcf9b453e44": {
          "model_module": "@jupyter-widgets/controls",
          "model_module_version": "1.5.0",
          "model_name": "HBoxModel",
          "state": {
            "_dom_classes": [],
            "_model_module": "@jupyter-widgets/controls",
            "_model_module_version": "1.5.0",
            "_model_name": "HBoxModel",
            "_view_count": null,
            "_view_module": "@jupyter-widgets/controls",
            "_view_module_version": "1.5.0",
            "_view_name": "HBoxView",
            "box_style": "",
            "children": [
              "IPY_MODEL_1d5e40ff30fc4e86968f25d34bbe5b89",
              "IPY_MODEL_8a3ec2f0b855431ab5d2e5d95619b5fc",
              "IPY_MODEL_222c5814f1624750824bac77ce8469dd"
            ],
            "layout": "IPY_MODEL_46d8ba0a1a444b0385a2a162b42c5771"
          }
        },
        "fe84c3f3ba3b44f8a8eccb12778d3559": {
          "model_module": "@jupyter-widgets/base",
          "model_module_version": "1.2.0",
          "model_name": "LayoutModel",
          "state": {
            "_model_module": "@jupyter-widgets/base",
            "_model_module_version": "1.2.0",
            "_model_name": "LayoutModel",
            "_view_count": null,
            "_view_module": "@jupyter-widgets/base",
            "_view_module_version": "1.2.0",
            "_view_name": "LayoutView",
            "align_content": null,
            "align_items": null,
            "align_self": null,
            "border": null,
            "bottom": null,
            "display": null,
            "flex": null,
            "flex_flow": null,
            "grid_area": null,
            "grid_auto_columns": null,
            "grid_auto_flow": null,
            "grid_auto_rows": null,
            "grid_column": null,
            "grid_gap": null,
            "grid_row": null,
            "grid_template_areas": null,
            "grid_template_columns": null,
            "grid_template_rows": null,
            "height": null,
            "justify_content": null,
            "justify_items": null,
            "left": null,
            "margin": null,
            "max_height": null,
            "max_width": null,
            "min_height": null,
            "min_width": null,
            "object_fit": null,
            "object_position": null,
            "order": null,
            "overflow": null,
            "overflow_x": null,
            "overflow_y": null,
            "padding": null,
            "right": null,
            "top": null,
            "visibility": null,
            "width": null
          }
        }
      }
    }
  },
  "nbformat": 4,
  "nbformat_minor": 0
}